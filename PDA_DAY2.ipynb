{
 "cells": [
  {
   "cell_type": "markdown",
   "id": "8243c2de-7202-4d1f-b476-20a2e1a07500",
   "metadata": {},
   "source": [
    "PANDAS"
   ]
  },
  {
   "cell_type": "code",
   "execution_count": 4,
   "id": "ca776eb4-b904-4679-afb5-f6e620db1137",
   "metadata": {},
   "outputs": [],
   "source": [
    "import pandas as pd"
   ]
  },
  {
   "cell_type": "markdown",
   "id": "b5ec8d26-cc08-46b3-8776-b03d574b6341",
   "metadata": {},
   "source": [
    "Series"
   ]
  },
  {
   "cell_type": "code",
   "execution_count": 7,
   "id": "fb79214f-f3a6-4954-86dc-b1cd05078bb0",
   "metadata": {},
   "outputs": [
    {
     "name": "stdout",
     "output_type": "stream",
     "text": [
      "0    Nanditha\n",
      "1    vinayaka\n",
      "2        hema\n",
      "3    varshini\n",
      "4       Navya\n",
      "dtype: object\n"
     ]
    }
   ],
   "source": [
    "mydata1=[\"Nanditha\",\"vinayaka\",\"hema\",\"varshini\",\"Navya\"]\n",
    "Ser1=pd.Series(mydata1)\n",
    "print(Ser1)"
   ]
  },
  {
   "cell_type": "code",
   "execution_count": 9,
   "id": "eaa1a400-8756-46f1-87fd-85f4020ab311",
   "metadata": {},
   "outputs": [
    {
     "data": {
      "text/plain": [
       "'Navya'"
      ]
     },
     "execution_count": 9,
     "metadata": {},
     "output_type": "execute_result"
    }
   ],
   "source": [
    "Ser1[4]"
   ]
  },
  {
   "cell_type": "code",
   "execution_count": 11,
   "id": "301575ca-be73-4d03-bf8e-c2dcbe5ca6b0",
   "metadata": {},
   "outputs": [
    {
     "data": {
      "text/plain": [
       "'vinayaka'"
      ]
     },
     "execution_count": 11,
     "metadata": {},
     "output_type": "execute_result"
    }
   ],
   "source": [
    "Ser1[1]"
   ]
  },
  {
   "cell_type": "code",
   "execution_count": 15,
   "id": "c9101373-f30c-4e49-82fa-9ef1fab0e95a",
   "metadata": {},
   "outputs": [
    {
     "name": "stdout",
     "output_type": "stream",
     "text": [
      "0       Megha\n",
      "1    Nanditha\n",
      "2        hema\n",
      "3       vinay\n",
      "4      sahana\n",
      "dtype: object\n"
     ]
    }
   ],
   "source": [
    "mydata1=[\"Megha\",\"Nanditha\",\"hema\",\"vinay\",\"sahana\"]\n",
    "roll=['A','B','C','D','E']\n",
    "Ser1=pd.Series(mydata1)\n",
    "print(Ser1)"
   ]
  },
  {
   "cell_type": "code",
   "execution_count": 17,
   "id": "248d9ade-a170-4765-9580-5d2f7257bedb",
   "metadata": {},
   "outputs": [
    {
     "name": "stdout",
     "output_type": "stream",
     "text": [
      "0       Megha\n",
      "1    Nanditha\n",
      "2        hema\n",
      "3       vinay\n",
      "4      sahana\n",
      "dtype: object\n"
     ]
    }
   ],
   "source": [
    "mydata1=[\"Megha\",\"Nanditha\",\"hema\",\"vinay\",\"sahana\"]\n",
    "roll=[2,23,12,8,9]\n",
    "Ser1=pd.Series(mydata1)\n",
    "print(Ser1)"
   ]
  },
  {
   "cell_type": "code",
   "execution_count": 25,
   "id": "74e95034-f270-45bd-bdd5-767488f49550",
   "metadata": {},
   "outputs": [],
   "source": [
    "Ser1.to_csv(r\"C:\\Users\\DELL\\Desktop\\mypythonfiles\\mydata1.csv\")"
   ]
  },
  {
   "cell_type": "markdown",
   "id": "6bab2982-55fe-4129-93aa-e29f8e878c18",
   "metadata": {},
   "source": [
    "DATAFRAMES"
   ]
  },
  {
   "cell_type": "code",
   "execution_count": 28,
   "id": "eba6115c-4a12-4675-8c78-16b57e0e7c75",
   "metadata": {},
   "outputs": [
    {
     "name": "stdout",
     "output_type": "stream",
     "text": [
      "{'Names': ['Megha', 'Nandu', 'Hema', 'vinay'], 'Age': [19, 19, 19, 26], 'city': ['haveri', 'Gangavathi', 'Gangavati', 'sandur']}\n"
     ]
    }
   ],
   "source": [
    "mydict ={\"Names\":[\"Megha\",\"Nandu\",\"Hema\",\"vinay\"],\n",
    "         \"Age\":[19,19,19,26],\n",
    "         \"city\":[\"haveri\",\"Gangavathi\",\"Gangavati\",\"sandur\"]\n",
    "        }\n",
    "print(mydict)"
   ]
  },
  {
   "cell_type": "code",
   "execution_count": 30,
   "id": "90149486-2bf8-47cc-8287-e8a2ec8413f9",
   "metadata": {},
   "outputs": [
    {
     "name": "stdout",
     "output_type": "stream",
     "text": [
      "   Names  Age        city\n",
      "0  Megha   19      haveri\n",
      "1  Nandu   19  Gangavathi\n",
      "2   Hema   19   Gangavati\n",
      "3  vinay   26      sandur\n"
     ]
    }
   ],
   "source": [
    "dict_df=pd.DataFrame(mydict)\n",
    "print(dict_df)"
   ]
  },
  {
   "cell_type": "code",
   "execution_count": 32,
   "id": "9d1fc99f-7b08-4286-92f9-99b4c85c8123",
   "metadata": {},
   "outputs": [],
   "source": [
    "dict_df.to_csv(r\"C:\\Users\\DELL\\Desktop\\mypythonfiles\\dictdata.csv\")"
   ]
  },
  {
   "cell_type": "markdown",
   "id": "d52414ea-5650-4446-b5c0-0c06aa7230a8",
   "metadata": {},
   "source": [
    "LOAD DATA"
   ]
  },
  {
   "cell_type": "code",
   "execution_count": 35,
   "id": "0273490a-9990-4c4c-a0c5-30147c52b5e9",
   "metadata": {},
   "outputs": [],
   "source": [
    "df1=pd.read_csv(r\"C:\\Users\\DELL\\Downloads\\python1.csv\")"
   ]
  },
  {
   "cell_type": "code",
   "execution_count": 37,
   "id": "50297f9e-a5fd-4ae2-91f5-2069cd83a2f6",
   "metadata": {},
   "outputs": [
    {
     "data": {
      "text/html": [
       "<div>\n",
       "<style scoped>\n",
       "    .dataframe tbody tr th:only-of-type {\n",
       "        vertical-align: middle;\n",
       "    }\n",
       "\n",
       "    .dataframe tbody tr th {\n",
       "        vertical-align: top;\n",
       "    }\n",
       "\n",
       "    .dataframe thead th {\n",
       "        text-align: right;\n",
       "    }\n",
       "</style>\n",
       "<table border=\"1\" class=\"dataframe\">\n",
       "  <thead>\n",
       "    <tr style=\"text-align: right;\">\n",
       "      <th></th>\n",
       "      <th>Name</th>\n",
       "      <th>Dept</th>\n",
       "      <th>Sem1</th>\n",
       "      <th>Sem2</th>\n",
       "      <th>Sem3</th>\n",
       "    </tr>\n",
       "  </thead>\n",
       "  <tbody>\n",
       "    <tr>\n",
       "      <th>0</th>\n",
       "      <td>Nanditha</td>\n",
       "      <td>Ise</td>\n",
       "      <td>8.1</td>\n",
       "      <td>8.1</td>\n",
       "      <td>9.0</td>\n",
       "    </tr>\n",
       "    <tr>\n",
       "      <th>1</th>\n",
       "      <td>Megha</td>\n",
       "      <td>Ise</td>\n",
       "      <td>8.5</td>\n",
       "      <td>8.8</td>\n",
       "      <td>8.6</td>\n",
       "    </tr>\n",
       "    <tr>\n",
       "      <th>2</th>\n",
       "      <td>Hema</td>\n",
       "      <td>Ise</td>\n",
       "      <td>7.9</td>\n",
       "      <td>8.3</td>\n",
       "      <td>8.8</td>\n",
       "    </tr>\n",
       "    <tr>\n",
       "      <th>3</th>\n",
       "      <td>Varshini</td>\n",
       "      <td>Ise</td>\n",
       "      <td>9.0</td>\n",
       "      <td>9.2</td>\n",
       "      <td>9.3</td>\n",
       "    </tr>\n",
       "    <tr>\n",
       "      <th>4</th>\n",
       "      <td>Navyashree</td>\n",
       "      <td>Ise</td>\n",
       "      <td>8.7</td>\n",
       "      <td>9.0</td>\n",
       "      <td>9.0</td>\n",
       "    </tr>\n",
       "  </tbody>\n",
       "</table>\n",
       "</div>"
      ],
      "text/plain": [
       "         Name Dept  Sem1  Sem2  Sem3\n",
       "0    Nanditha  Ise   8.1   8.1   9.0\n",
       "1       Megha  Ise   8.5   8.8   8.6\n",
       "2        Hema  Ise   7.9   8.3   8.8\n",
       "3    Varshini  Ise   9.0   9.2   9.3\n",
       "4  Navyashree  Ise   8.7   9.0   9.0"
      ]
     },
     "execution_count": 37,
     "metadata": {},
     "output_type": "execute_result"
    }
   ],
   "source": [
    "df1.head()"
   ]
  },
  {
   "cell_type": "markdown",
   "id": "972ed112-c667-4e5a-94d0-39bc73709954",
   "metadata": {},
   "source": [
    "LARGE DATA"
   ]
  },
  {
   "cell_type": "code",
   "execution_count": 40,
   "id": "33e1f7c3-5053-405c-af12-2b11b9d90432",
   "metadata": {},
   "outputs": [
    {
     "data": {
      "text/html": [
       "<div>\n",
       "<style scoped>\n",
       "    .dataframe tbody tr th:only-of-type {\n",
       "        vertical-align: middle;\n",
       "    }\n",
       "\n",
       "    .dataframe tbody tr th {\n",
       "        vertical-align: top;\n",
       "    }\n",
       "\n",
       "    .dataframe thead th {\n",
       "        text-align: right;\n",
       "    }\n",
       "</style>\n",
       "<table border=\"1\" class=\"dataframe\">\n",
       "  <thead>\n",
       "    <tr style=\"text-align: right;\">\n",
       "      <th></th>\n",
       "      <th>preg</th>\n",
       "      <th>plas</th>\n",
       "      <th>pres</th>\n",
       "      <th>skin</th>\n",
       "      <th>insu</th>\n",
       "      <th>mass</th>\n",
       "      <th>pedi</th>\n",
       "      <th>age</th>\n",
       "      <th>class</th>\n",
       "    </tr>\n",
       "  </thead>\n",
       "  <tbody>\n",
       "    <tr>\n",
       "      <th>0</th>\n",
       "      <td>6.0</td>\n",
       "      <td>148</td>\n",
       "      <td>72.0</td>\n",
       "      <td>35.0</td>\n",
       "      <td>0</td>\n",
       "      <td>33.6</td>\n",
       "      <td>0.627</td>\n",
       "      <td>50</td>\n",
       "      <td>tested_positive</td>\n",
       "    </tr>\n",
       "    <tr>\n",
       "      <th>1</th>\n",
       "      <td>1.0</td>\n",
       "      <td>85</td>\n",
       "      <td>66.0</td>\n",
       "      <td>29.0</td>\n",
       "      <td>0</td>\n",
       "      <td>26.6</td>\n",
       "      <td>0.351</td>\n",
       "      <td>31</td>\n",
       "      <td>tested_negative</td>\n",
       "    </tr>\n",
       "    <tr>\n",
       "      <th>2</th>\n",
       "      <td>8.0</td>\n",
       "      <td>183</td>\n",
       "      <td>64.0</td>\n",
       "      <td>0.0</td>\n",
       "      <td>0</td>\n",
       "      <td>23.3</td>\n",
       "      <td>0.672</td>\n",
       "      <td>32</td>\n",
       "      <td>tested_positive</td>\n",
       "    </tr>\n",
       "    <tr>\n",
       "      <th>3</th>\n",
       "      <td>1.0</td>\n",
       "      <td>89</td>\n",
       "      <td>66.0</td>\n",
       "      <td>23.0</td>\n",
       "      <td>94</td>\n",
       "      <td>28.1</td>\n",
       "      <td>0.167</td>\n",
       "      <td>21</td>\n",
       "      <td>tested_negative</td>\n",
       "    </tr>\n",
       "    <tr>\n",
       "      <th>4</th>\n",
       "      <td>0.0</td>\n",
       "      <td>137</td>\n",
       "      <td>40.0</td>\n",
       "      <td>35.0</td>\n",
       "      <td>168</td>\n",
       "      <td>43.1</td>\n",
       "      <td>2.288</td>\n",
       "      <td>33</td>\n",
       "      <td>tested_positive</td>\n",
       "    </tr>\n",
       "  </tbody>\n",
       "</table>\n",
       "</div>"
      ],
      "text/plain": [
       "   preg  plas  pres  skin  insu  mass   pedi  age            class\n",
       "0   6.0   148  72.0  35.0     0  33.6  0.627   50  tested_positive\n",
       "1   1.0    85  66.0  29.0     0  26.6  0.351   31  tested_negative\n",
       "2   8.0   183  64.0   0.0     0  23.3  0.672   32  tested_positive\n",
       "3   1.0    89  66.0  23.0    94  28.1  0.167   21  tested_negative\n",
       "4   0.0   137  40.0  35.0   168  43.1  2.288   33  tested_positive"
      ]
     },
     "execution_count": 40,
     "metadata": {},
     "output_type": "execute_result"
    }
   ],
   "source": [
    "diab_df=pd.read_csv(r\"C:\\Users\\DELL\\Desktop\\mypythonfiles\\diabetcsvsmall.csv\")\n",
    "diab_df.head()"
   ]
  },
  {
   "cell_type": "code",
   "execution_count": null,
   "id": "6c87c61d-5f01-44c9-9461-a502b66ee768",
   "metadata": {},
   "outputs": [],
   "source": []
  }
 ],
 "metadata": {
  "kernelspec": {
   "display_name": "Python 3 (ipykernel)",
   "language": "python",
   "name": "python3"
  },
  "language_info": {
   "codemirror_mode": {
    "name": "ipython",
    "version": 3
   },
   "file_extension": ".py",
   "mimetype": "text/x-python",
   "name": "python",
   "nbconvert_exporter": "python",
   "pygments_lexer": "ipython3",
   "version": "3.12.4"
  }
 },
 "nbformat": 4,
 "nbformat_minor": 5
}
