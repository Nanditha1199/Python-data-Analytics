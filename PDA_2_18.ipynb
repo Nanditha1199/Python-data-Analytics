{
 "cells": [
  {
   "cell_type": "markdown",
   "id": "e2c89b9f-c86b-47e1-871f-9344ffa131a0",
   "metadata": {},
   "source": [
    "# Pandas"
   ]
  },
  {
   "cell_type": "code",
   "execution_count": 3,
   "id": "fe90dc4b-66a6-4fbf-9f34-fcd825cc446a",
   "metadata": {},
   "outputs": [],
   "source": [
    "import pandas as pd"
   ]
  },
  {
   "cell_type": "code",
   "execution_count": 5,
   "id": "cfd0dba3-7be4-4de4-b116-7e3f161f7298",
   "metadata": {},
   "outputs": [
    {
     "name": "stdout",
     "output_type": "stream",
     "text": [
      "0          Megha\n",
      "1      Nandhitha\n",
      "2    Hemabhinaya\n",
      "3    Purushottam\n",
      "4     Shivakumar\n",
      "5       Rajendra\n",
      "6        Praveen\n",
      "dtype: object\n"
     ]
    }
   ],
   "source": [
    "mydata=[\"Megha\",\"Nandhitha\",\"Hemabhinaya\",\"Purushottam\",\"Shivakumar\",\"Rajendra\",\"Praveen\"]\n",
    "Ser=pd.Series(mydata)\n",
    "print(Ser)"
   ]
  },
  {
   "cell_type": "code",
   "execution_count": 10,
   "id": "a6ef7a3c-6df7-4c2c-80d7-570615329b16",
   "metadata": {},
   "outputs": [
    {
     "name": "stdout",
     "output_type": "stream",
     "text": [
      "0          Megha\n",
      "1      Nandhitha\n",
      "2    Hemabhinaya\n",
      "3    Purushottam\n",
      "4     Shivakumar\n",
      "5       Rajendra\n",
      "6        Praveen\n",
      "dtype: object\n"
     ]
    }
   ],
   "source": [
    "mydata=[\"Megha\",\"Nandhitha\",\"Hemabhinaya\",\"Purushottam\",\"Shivakumar\",\"Rajendra\",\"Praveen\"]\n",
    "roll=[2,4,7,3,1,8,7]\n",
    "Ser=pd.Series(mydata)\n",
    "print(Ser)"
   ]
  },
  {
   "cell_type": "code",
   "execution_count": 7,
   "id": "777b8307-bd97-48bd-ba9a-b1d1ba8d30f0",
   "metadata": {},
   "outputs": [
    {
     "data": {
      "text/plain": [
       "'Shivakumar'"
      ]
     },
     "execution_count": 7,
     "metadata": {},
     "output_type": "execute_result"
    }
   ],
   "source": [
    "Ser[4]"
   ]
  },
  {
   "cell_type": "code",
   "execution_count": 8,
   "id": "8cf6c921-28cc-407f-a448-a3116ab255f2",
   "metadata": {},
   "outputs": [
    {
     "data": {
      "text/plain": [
       "'Hemabhinaya'"
      ]
     },
     "execution_count": 8,
     "metadata": {},
     "output_type": "execute_result"
    }
   ],
   "source": [
    "Ser[2]"
   ]
  },
  {
   "cell_type": "code",
   "execution_count": 12,
   "id": "f16bfa36-c5e5-49b5-9891-346c8b38d077",
   "metadata": {},
   "outputs": [
    {
     "name": "stdout",
     "output_type": "stream",
     "text": [
      "2          Megha\n",
      "4      Nandhitha\n",
      "7    Hemabhinaya\n",
      "3    Purushottam\n",
      "1     Shivakumar\n",
      "8       Rajendra\n",
      "7        Praveen\n",
      "dtype: object\n"
     ]
    }
   ],
   "source": [
    "mydata=[\"Megha\",\"Nandhitha\",\"Hemabhinaya\",\"Purushottam\",\"Shivakumar\",\"Rajendra\",\"Praveen\"]\n",
    "roll=[2,4,7,3,1,8,7]\n",
    "Ser1=pd.Series(mydata,index=roll)\n",
    "print(Ser1)"
   ]
  },
  {
   "cell_type": "code",
   "execution_count": 14,
   "id": "f15640f0-7204-4439-8f33-7857b4a92f9c",
   "metadata": {},
   "outputs": [],
   "source": [
    "Ser1.to_csv(r\"C:\\Mypythonfiles\\Mydata.csv\")"
   ]
  },
  {
   "cell_type": "markdown",
   "id": "60b11057-ed39-43b2-8b12-dd2bc9af6cda",
   "metadata": {},
   "source": [
    "# Dataframes"
   ]
  },
  {
   "cell_type": "code",
   "execution_count": 16,
   "id": "da148423-f11d-4822-8f08-dcab6c8bd8a7",
   "metadata": {},
   "outputs": [
    {
     "name": "stdout",
     "output_type": "stream",
     "text": [
      "{'Names': ['Megha', 'Nandhitha', 'Hemabhinaya', 'Purushottam', 'Shivakumar', 'Rajendra', 'Praveen'], 'Age': [20, 19, 20, 19, 20, 19, 20], 'City': ['Haveri', 'Gangavathi', 'Koppal', 'Tumkur', 'Tumkur', 'Chitradurga', 'Tumkur']}\n"
     ]
    }
   ],
   "source": [
    "MyDict={\"Names\":[\"Megha\",\"Nandhitha\",\"Hemabhinaya\",\"Purushottam\",\"Shivakumar\",\"Rajendra\",\"Praveen\"],\n",
    "        \"Age\":[20,19,20,19,20,19,20],\n",
    "        \"City\":[\"Haveri\",\"Gangavathi\",\"Koppal\",\"Tumkur\",\"Tumkur\",\"Chitradurga\",\"Tumkur\"]\n",
    "       }\n",
    "print(MyDict)"
   ]
  },
  {
   "cell_type": "code",
   "execution_count": 17,
   "id": "61077622-3140-4f03-8963-ff6de1c85dd2",
   "metadata": {},
   "outputs": [
    {
     "name": "stdout",
     "output_type": "stream",
     "text": [
      "         Names  Age         City\n",
      "0        Megha   20       Haveri\n",
      "1    Nandhitha   19   Gangavathi\n",
      "2  Hemabhinaya   20       Koppal\n",
      "3  Purushottam   19       Tumkur\n",
      "4   Shivakumar   20       Tumkur\n",
      "5     Rajendra   19  Chitradurga\n",
      "6      Praveen   20       Tumkur\n"
     ]
    }
   ],
   "source": [
    "Dict_data=pd.DataFrame(MyDict)\n",
    "print(Dict_data)"
   ]
  },
  {
   "cell_type": "code",
   "execution_count": 43,
   "id": "69313cf4-2b6d-457e-8b2f-1760875b1416",
   "metadata": {},
   "outputs": [],
   "source": [
    "Dict_data.to_csv(r\"C:\\Mypythonfiles\\Dict-data.csv\")"
   ]
  },
  {
   "cell_type": "markdown",
   "id": "fc32b741-970c-44cc-be31-e032e39cde7c",
   "metadata": {},
   "source": [
    "# Load Data"
   ]
  },
  {
   "cell_type": "code",
   "execution_count": 5,
   "id": "0ba12731-d523-46d8-968b-cca86ee77807",
   "metadata": {},
   "outputs": [
    {
     "data": {
      "text/html": [
       "<div>\n",
       "<style scoped>\n",
       "    .dataframe tbody tr th:only-of-type {\n",
       "        vertical-align: middle;\n",
       "    }\n",
       "\n",
       "    .dataframe tbody tr th {\n",
       "        vertical-align: top;\n",
       "    }\n",
       "\n",
       "    .dataframe thead th {\n",
       "        text-align: right;\n",
       "    }\n",
       "</style>\n",
       "<table border=\"1\" class=\"dataframe\">\n",
       "  <thead>\n",
       "    <tr style=\"text-align: right;\">\n",
       "      <th></th>\n",
       "      <th>preg</th>\n",
       "      <th>plas</th>\n",
       "      <th>pres</th>\n",
       "      <th>skin</th>\n",
       "      <th>insu</th>\n",
       "      <th>mass</th>\n",
       "      <th>pedi</th>\n",
       "      <th>age</th>\n",
       "      <th>class</th>\n",
       "    </tr>\n",
       "  </thead>\n",
       "  <tbody>\n",
       "    <tr>\n",
       "      <th>0</th>\n",
       "      <td>6.0</td>\n",
       "      <td>148</td>\n",
       "      <td>72.0</td>\n",
       "      <td>35.0</td>\n",
       "      <td>0</td>\n",
       "      <td>33.6</td>\n",
       "      <td>0.627</td>\n",
       "      <td>50</td>\n",
       "      <td>tested_positive</td>\n",
       "    </tr>\n",
       "    <tr>\n",
       "      <th>1</th>\n",
       "      <td>1.0</td>\n",
       "      <td>85</td>\n",
       "      <td>66.0</td>\n",
       "      <td>29.0</td>\n",
       "      <td>0</td>\n",
       "      <td>26.6</td>\n",
       "      <td>0.351</td>\n",
       "      <td>31</td>\n",
       "      <td>tested_negative</td>\n",
       "    </tr>\n",
       "    <tr>\n",
       "      <th>2</th>\n",
       "      <td>8.0</td>\n",
       "      <td>183</td>\n",
       "      <td>64.0</td>\n",
       "      <td>0.0</td>\n",
       "      <td>0</td>\n",
       "      <td>23.3</td>\n",
       "      <td>0.672</td>\n",
       "      <td>32</td>\n",
       "      <td>tested_positive</td>\n",
       "    </tr>\n",
       "    <tr>\n",
       "      <th>3</th>\n",
       "      <td>1.0</td>\n",
       "      <td>89</td>\n",
       "      <td>66.0</td>\n",
       "      <td>23.0</td>\n",
       "      <td>94</td>\n",
       "      <td>28.1</td>\n",
       "      <td>0.167</td>\n",
       "      <td>21</td>\n",
       "      <td>tested_negative</td>\n",
       "    </tr>\n",
       "    <tr>\n",
       "      <th>4</th>\n",
       "      <td>0.0</td>\n",
       "      <td>137</td>\n",
       "      <td>40.0</td>\n",
       "      <td>35.0</td>\n",
       "      <td>168</td>\n",
       "      <td>43.1</td>\n",
       "      <td>2.288</td>\n",
       "      <td>33</td>\n",
       "      <td>tested_positive</td>\n",
       "    </tr>\n",
       "  </tbody>\n",
       "</table>\n",
       "</div>"
      ],
      "text/plain": [
       "   preg  plas  pres  skin  insu  mass   pedi  age            class\n",
       "0   6.0   148  72.0  35.0     0  33.6  0.627   50  tested_positive\n",
       "1   1.0    85  66.0  29.0     0  26.6  0.351   31  tested_negative\n",
       "2   8.0   183  64.0   0.0     0  23.3  0.672   32  tested_positive\n",
       "3   1.0    89  66.0  23.0    94  28.1  0.167   21  tested_negative\n",
       "4   0.0   137  40.0  35.0   168  43.1  2.288   33  tested_positive"
      ]
     },
     "execution_count": 5,
     "metadata": {},
     "output_type": "execute_result"
    }
   ],
   "source": [
    "import pandas as pd\n",
    "Ddf=pd.read_csv(r\"C:\\Mypythonfiles\\diabetcsvsmall.csv\")\n",
    "Ddf.head()"
   ]
  },
  {
   "cell_type": "code",
   "execution_count": 6,
   "id": "74fd6fbc-ba25-4871-baa6-d8150880e887",
   "metadata": {},
   "outputs": [
    {
     "data": {
      "text/html": [
       "<div>\n",
       "<style scoped>\n",
       "    .dataframe tbody tr th:only-of-type {\n",
       "        vertical-align: middle;\n",
       "    }\n",
       "\n",
       "    .dataframe tbody tr th {\n",
       "        vertical-align: top;\n",
       "    }\n",
       "\n",
       "    .dataframe thead th {\n",
       "        text-align: right;\n",
       "    }\n",
       "</style>\n",
       "<table border=\"1\" class=\"dataframe\">\n",
       "  <thead>\n",
       "    <tr style=\"text-align: right;\">\n",
       "      <th></th>\n",
       "      <th>preg</th>\n",
       "      <th>plas</th>\n",
       "      <th>pres</th>\n",
       "      <th>skin</th>\n",
       "      <th>insu</th>\n",
       "      <th>mass</th>\n",
       "      <th>pedi</th>\n",
       "      <th>age</th>\n",
       "      <th>class</th>\n",
       "    </tr>\n",
       "  </thead>\n",
       "  <tbody>\n",
       "    <tr>\n",
       "      <th>97</th>\n",
       "      <td>1.0</td>\n",
       "      <td>71</td>\n",
       "      <td>48.0</td>\n",
       "      <td>NaN</td>\n",
       "      <td>76</td>\n",
       "      <td>20.4</td>\n",
       "      <td>0.323</td>\n",
       "      <td>22</td>\n",
       "      <td>tested_negative</td>\n",
       "    </tr>\n",
       "    <tr>\n",
       "      <th>98</th>\n",
       "      <td>6.0</td>\n",
       "      <td>93</td>\n",
       "      <td>50.0</td>\n",
       "      <td>30.0</td>\n",
       "      <td>64</td>\n",
       "      <td>28.7</td>\n",
       "      <td>0.356</td>\n",
       "      <td>23</td>\n",
       "      <td>tested_negative</td>\n",
       "    </tr>\n",
       "    <tr>\n",
       "      <th>99</th>\n",
       "      <td>NaN</td>\n",
       "      <td>122</td>\n",
       "      <td>90.0</td>\n",
       "      <td>51.0</td>\n",
       "      <td>220</td>\n",
       "      <td>49.7</td>\n",
       "      <td>0.325</td>\n",
       "      <td>31</td>\n",
       "      <td>tested_positive</td>\n",
       "    </tr>\n",
       "    <tr>\n",
       "      <th>100</th>\n",
       "      <td>1.0</td>\n",
       "      <td>163</td>\n",
       "      <td>72.0</td>\n",
       "      <td>0.0</td>\n",
       "      <td>0</td>\n",
       "      <td>39.0</td>\n",
       "      <td>1.222</td>\n",
       "      <td>33</td>\n",
       "      <td>tested_positive</td>\n",
       "    </tr>\n",
       "    <tr>\n",
       "      <th>101</th>\n",
       "      <td>1.0</td>\n",
       "      <td>151</td>\n",
       "      <td>60.0</td>\n",
       "      <td>0.0</td>\n",
       "      <td>0</td>\n",
       "      <td>26.1</td>\n",
       "      <td>0.179</td>\n",
       "      <td>22</td>\n",
       "      <td>tested_negative</td>\n",
       "    </tr>\n",
       "  </tbody>\n",
       "</table>\n",
       "</div>"
      ],
      "text/plain": [
       "     preg  plas  pres  skin  insu  mass   pedi  age            class\n",
       "97    1.0    71  48.0   NaN    76  20.4  0.323   22  tested_negative\n",
       "98    6.0    93  50.0  30.0    64  28.7  0.356   23  tested_negative\n",
       "99    NaN   122  90.0  51.0   220  49.7  0.325   31  tested_positive\n",
       "100   1.0   163  72.0   0.0     0  39.0  1.222   33  tested_positive\n",
       "101   1.0   151  60.0   0.0     0  26.1  0.179   22  tested_negative"
      ]
     },
     "execution_count": 6,
     "metadata": {},
     "output_type": "execute_result"
    }
   ],
   "source": [
    "Ddf.tail()"
   ]
  },
  {
   "cell_type": "markdown",
   "id": "064839e3-22b7-4c62-9e15-6df62dede771",
   "metadata": {},
   "source": [
    "# Accessing"
   ]
  },
  {
   "cell_type": "code",
   "execution_count": 7,
   "id": "7d066f86-e32f-4492-bde3-a3b00da5bbaa",
   "metadata": {},
   "outputs": [
    {
     "data": {
      "text/plain": [
       "12    57\n",
       "13    59\n",
       "14    51\n",
       "15    32\n",
       "16    31\n",
       "17    31\n",
       "18    33\n",
       "19    32\n",
       "Name: age, dtype: int64"
      ]
     },
     "execution_count": 7,
     "metadata": {},
     "output_type": "execute_result"
    }
   ],
   "source": [
    "Ddf.loc[12:19,\"age\"]"
   ]
  },
  {
   "cell_type": "code",
   "execution_count": 8,
   "id": "7a906cd1-8458-49c9-a129-65b75048b70b",
   "metadata": {},
   "outputs": [
    {
     "data": {
      "text/html": [
       "<div>\n",
       "<style scoped>\n",
       "    .dataframe tbody tr th:only-of-type {\n",
       "        vertical-align: middle;\n",
       "    }\n",
       "\n",
       "    .dataframe tbody tr th {\n",
       "        vertical-align: top;\n",
       "    }\n",
       "\n",
       "    .dataframe thead th {\n",
       "        text-align: right;\n",
       "    }\n",
       "</style>\n",
       "<table border=\"1\" class=\"dataframe\">\n",
       "  <thead>\n",
       "    <tr style=\"text-align: right;\">\n",
       "      <th></th>\n",
       "      <th>preg</th>\n",
       "      <th>plas</th>\n",
       "      <th>pres</th>\n",
       "      <th>skin</th>\n",
       "      <th>insu</th>\n",
       "      <th>mass</th>\n",
       "      <th>pedi</th>\n",
       "      <th>age</th>\n",
       "      <th>class</th>\n",
       "    </tr>\n",
       "  </thead>\n",
       "  <tbody>\n",
       "    <tr>\n",
       "      <th>12</th>\n",
       "      <td>10.0</td>\n",
       "      <td>139</td>\n",
       "      <td>80.0</td>\n",
       "      <td>0.0</td>\n",
       "      <td>0</td>\n",
       "      <td>27.1</td>\n",
       "      <td>1.441</td>\n",
       "      <td>57</td>\n",
       "      <td>tested_negative</td>\n",
       "    </tr>\n",
       "    <tr>\n",
       "      <th>13</th>\n",
       "      <td>1.0</td>\n",
       "      <td>189</td>\n",
       "      <td>60.0</td>\n",
       "      <td>23.0</td>\n",
       "      <td>846</td>\n",
       "      <td>30.1</td>\n",
       "      <td>0.398</td>\n",
       "      <td>59</td>\n",
       "      <td>tested_positive</td>\n",
       "    </tr>\n",
       "    <tr>\n",
       "      <th>14</th>\n",
       "      <td>5.0</td>\n",
       "      <td>166</td>\n",
       "      <td>72.0</td>\n",
       "      <td>19.0</td>\n",
       "      <td>175</td>\n",
       "      <td>25.8</td>\n",
       "      <td>0.587</td>\n",
       "      <td>51</td>\n",
       "      <td>tested_positive</td>\n",
       "    </tr>\n",
       "    <tr>\n",
       "      <th>15</th>\n",
       "      <td>7.0</td>\n",
       "      <td>100</td>\n",
       "      <td>0.0</td>\n",
       "      <td>0.0</td>\n",
       "      <td>0</td>\n",
       "      <td>30.0</td>\n",
       "      <td>0.484</td>\n",
       "      <td>32</td>\n",
       "      <td>tested_positive</td>\n",
       "    </tr>\n",
       "    <tr>\n",
       "      <th>16</th>\n",
       "      <td>0.0</td>\n",
       "      <td>118</td>\n",
       "      <td>84.0</td>\n",
       "      <td>47.0</td>\n",
       "      <td>230</td>\n",
       "      <td>45.8</td>\n",
       "      <td>0.551</td>\n",
       "      <td>31</td>\n",
       "      <td>tested_positive</td>\n",
       "    </tr>\n",
       "    <tr>\n",
       "      <th>17</th>\n",
       "      <td>7.0</td>\n",
       "      <td>107</td>\n",
       "      <td>74.0</td>\n",
       "      <td>0.0</td>\n",
       "      <td>0</td>\n",
       "      <td>29.6</td>\n",
       "      <td>0.254</td>\n",
       "      <td>31</td>\n",
       "      <td>tested_positive</td>\n",
       "    </tr>\n",
       "    <tr>\n",
       "      <th>18</th>\n",
       "      <td>1.0</td>\n",
       "      <td>103</td>\n",
       "      <td>30.0</td>\n",
       "      <td>38.0</td>\n",
       "      <td>83</td>\n",
       "      <td>43.3</td>\n",
       "      <td>0.183</td>\n",
       "      <td>33</td>\n",
       "      <td>tested_negative</td>\n",
       "    </tr>\n",
       "    <tr>\n",
       "      <th>19</th>\n",
       "      <td>1.0</td>\n",
       "      <td>115</td>\n",
       "      <td>70.0</td>\n",
       "      <td>30.0</td>\n",
       "      <td>96</td>\n",
       "      <td>34.6</td>\n",
       "      <td>0.529</td>\n",
       "      <td>32</td>\n",
       "      <td>tested_positive</td>\n",
       "    </tr>\n",
       "  </tbody>\n",
       "</table>\n",
       "</div>"
      ],
      "text/plain": [
       "    preg  plas  pres  skin  insu  mass   pedi  age            class\n",
       "12  10.0   139  80.0   0.0     0  27.1  1.441   57  tested_negative\n",
       "13   1.0   189  60.0  23.0   846  30.1  0.398   59  tested_positive\n",
       "14   5.0   166  72.0  19.0   175  25.8  0.587   51  tested_positive\n",
       "15   7.0   100   0.0   0.0     0  30.0  0.484   32  tested_positive\n",
       "16   0.0   118  84.0  47.0   230  45.8  0.551   31  tested_positive\n",
       "17   7.0   107  74.0   0.0     0  29.6  0.254   31  tested_positive\n",
       "18   1.0   103  30.0  38.0    83  43.3  0.183   33  tested_negative\n",
       "19   1.0   115  70.0  30.0    96  34.6  0.529   32  tested_positive"
      ]
     },
     "execution_count": 8,
     "metadata": {},
     "output_type": "execute_result"
    }
   ],
   "source": [
    "Ddf.loc[12:19]"
   ]
  },
  {
   "cell_type": "code",
   "execution_count": 9,
   "id": "53718afd-b4d8-4d18-89e4-6e6192e1717f",
   "metadata": {},
   "outputs": [
    {
     "data": {
      "text/plain": [
       "12    tested_negative\n",
       "13    tested_positive\n",
       "14    tested_positive\n",
       "15    tested_positive\n",
       "16    tested_positive\n",
       "17    tested_positive\n",
       "18    tested_negative\n",
       "19    tested_positive\n",
       "Name: class, dtype: object"
      ]
     },
     "execution_count": 9,
     "metadata": {},
     "output_type": "execute_result"
    }
   ],
   "source": [
    "Ddf.loc[12:19,\"class\"]"
   ]
  },
  {
   "cell_type": "code",
   "execution_count": 10,
   "id": "dd6bebdd-fbb7-4c3e-8fca-2e3d7a02badc",
   "metadata": {},
   "outputs": [
    {
     "data": {
      "text/html": [
       "<div>\n",
       "<style scoped>\n",
       "    .dataframe tbody tr th:only-of-type {\n",
       "        vertical-align: middle;\n",
       "    }\n",
       "\n",
       "    .dataframe tbody tr th {\n",
       "        vertical-align: top;\n",
       "    }\n",
       "\n",
       "    .dataframe thead th {\n",
       "        text-align: right;\n",
       "    }\n",
       "</style>\n",
       "<table border=\"1\" class=\"dataframe\">\n",
       "  <thead>\n",
       "    <tr style=\"text-align: right;\">\n",
       "      <th></th>\n",
       "      <th>skin</th>\n",
       "      <th>insu</th>\n",
       "      <th>mass</th>\n",
       "      <th>pedi</th>\n",
       "      <th>age</th>\n",
       "    </tr>\n",
       "  </thead>\n",
       "  <tbody>\n",
       "    <tr>\n",
       "      <th>12</th>\n",
       "      <td>0.0</td>\n",
       "      <td>0</td>\n",
       "      <td>27.1</td>\n",
       "      <td>1.441</td>\n",
       "      <td>57</td>\n",
       "    </tr>\n",
       "    <tr>\n",
       "      <th>13</th>\n",
       "      <td>23.0</td>\n",
       "      <td>846</td>\n",
       "      <td>30.1</td>\n",
       "      <td>0.398</td>\n",
       "      <td>59</td>\n",
       "    </tr>\n",
       "    <tr>\n",
       "      <th>14</th>\n",
       "      <td>19.0</td>\n",
       "      <td>175</td>\n",
       "      <td>25.8</td>\n",
       "      <td>0.587</td>\n",
       "      <td>51</td>\n",
       "    </tr>\n",
       "    <tr>\n",
       "      <th>15</th>\n",
       "      <td>0.0</td>\n",
       "      <td>0</td>\n",
       "      <td>30.0</td>\n",
       "      <td>0.484</td>\n",
       "      <td>32</td>\n",
       "    </tr>\n",
       "    <tr>\n",
       "      <th>16</th>\n",
       "      <td>47.0</td>\n",
       "      <td>230</td>\n",
       "      <td>45.8</td>\n",
       "      <td>0.551</td>\n",
       "      <td>31</td>\n",
       "    </tr>\n",
       "    <tr>\n",
       "      <th>17</th>\n",
       "      <td>0.0</td>\n",
       "      <td>0</td>\n",
       "      <td>29.6</td>\n",
       "      <td>0.254</td>\n",
       "      <td>31</td>\n",
       "    </tr>\n",
       "    <tr>\n",
       "      <th>18</th>\n",
       "      <td>38.0</td>\n",
       "      <td>83</td>\n",
       "      <td>43.3</td>\n",
       "      <td>0.183</td>\n",
       "      <td>33</td>\n",
       "    </tr>\n",
       "  </tbody>\n",
       "</table>\n",
       "</div>"
      ],
      "text/plain": [
       "    skin  insu  mass   pedi  age\n",
       "12   0.0     0  27.1  1.441   57\n",
       "13  23.0   846  30.1  0.398   59\n",
       "14  19.0   175  25.8  0.587   51\n",
       "15   0.0     0  30.0  0.484   32\n",
       "16  47.0   230  45.8  0.551   31\n",
       "17   0.0     0  29.6  0.254   31\n",
       "18  38.0    83  43.3  0.183   33"
      ]
     },
     "execution_count": 10,
     "metadata": {},
     "output_type": "execute_result"
    }
   ],
   "source": [
    "Ddf.iloc[12:19,3:8] #dataframe.iloc[row_range,column_range]"
   ]
  },
  {
   "cell_type": "markdown",
   "id": "b6f48282-2955-4ad7-bf9a-8c6240dd5773",
   "metadata": {},
   "source": [
    "# Feature Engineering"
   ]
  },
  {
   "cell_type": "markdown",
   "id": "50fa7e12-e68c-4af3-9ab5-1cebc8466caa",
   "metadata": {},
   "source": [
    "insu,mass,preg,plas,age,pres,skin==>Independent(Feature)\n",
    "class==> dependent ==> Target(depends on features)"
   ]
  },
  {
   "cell_type": "code",
   "execution_count": 11,
   "id": "f96615dd-8871-4c26-8952-5ea80e7e72f9",
   "metadata": {},
   "outputs": [],
   "source": [
    "Ddf.rename(columns={\"plas\":\"Glucose\"},inplace=True) #dataframe.rename(columns={\"old\":\"new\"},inplace=True)"
   ]
  },
  {
   "cell_type": "code",
   "execution_count": 12,
   "id": "85649d9c-0ba5-4af8-8bcc-85b6a6c99f0c",
   "metadata": {},
   "outputs": [
    {
     "data": {
      "text/html": [
       "<div>\n",
       "<style scoped>\n",
       "    .dataframe tbody tr th:only-of-type {\n",
       "        vertical-align: middle;\n",
       "    }\n",
       "\n",
       "    .dataframe tbody tr th {\n",
       "        vertical-align: top;\n",
       "    }\n",
       "\n",
       "    .dataframe thead th {\n",
       "        text-align: right;\n",
       "    }\n",
       "</style>\n",
       "<table border=\"1\" class=\"dataframe\">\n",
       "  <thead>\n",
       "    <tr style=\"text-align: right;\">\n",
       "      <th></th>\n",
       "      <th>preg</th>\n",
       "      <th>Glucose</th>\n",
       "      <th>pres</th>\n",
       "      <th>skin</th>\n",
       "      <th>insu</th>\n",
       "      <th>mass</th>\n",
       "      <th>pedi</th>\n",
       "      <th>age</th>\n",
       "      <th>class</th>\n",
       "    </tr>\n",
       "  </thead>\n",
       "  <tbody>\n",
       "    <tr>\n",
       "      <th>0</th>\n",
       "      <td>6.0</td>\n",
       "      <td>148</td>\n",
       "      <td>72.0</td>\n",
       "      <td>35.0</td>\n",
       "      <td>0</td>\n",
       "      <td>33.6</td>\n",
       "      <td>0.627</td>\n",
       "      <td>50</td>\n",
       "      <td>tested_positive</td>\n",
       "    </tr>\n",
       "    <tr>\n",
       "      <th>1</th>\n",
       "      <td>1.0</td>\n",
       "      <td>85</td>\n",
       "      <td>66.0</td>\n",
       "      <td>29.0</td>\n",
       "      <td>0</td>\n",
       "      <td>26.6</td>\n",
       "      <td>0.351</td>\n",
       "      <td>31</td>\n",
       "      <td>tested_negative</td>\n",
       "    </tr>\n",
       "    <tr>\n",
       "      <th>2</th>\n",
       "      <td>8.0</td>\n",
       "      <td>183</td>\n",
       "      <td>64.0</td>\n",
       "      <td>0.0</td>\n",
       "      <td>0</td>\n",
       "      <td>23.3</td>\n",
       "      <td>0.672</td>\n",
       "      <td>32</td>\n",
       "      <td>tested_positive</td>\n",
       "    </tr>\n",
       "    <tr>\n",
       "      <th>3</th>\n",
       "      <td>1.0</td>\n",
       "      <td>89</td>\n",
       "      <td>66.0</td>\n",
       "      <td>23.0</td>\n",
       "      <td>94</td>\n",
       "      <td>28.1</td>\n",
       "      <td>0.167</td>\n",
       "      <td>21</td>\n",
       "      <td>tested_negative</td>\n",
       "    </tr>\n",
       "    <tr>\n",
       "      <th>4</th>\n",
       "      <td>0.0</td>\n",
       "      <td>137</td>\n",
       "      <td>40.0</td>\n",
       "      <td>35.0</td>\n",
       "      <td>168</td>\n",
       "      <td>43.1</td>\n",
       "      <td>2.288</td>\n",
       "      <td>33</td>\n",
       "      <td>tested_positive</td>\n",
       "    </tr>\n",
       "  </tbody>\n",
       "</table>\n",
       "</div>"
      ],
      "text/plain": [
       "   preg  Glucose  pres  skin  insu  mass   pedi  age            class\n",
       "0   6.0      148  72.0  35.0     0  33.6  0.627   50  tested_positive\n",
       "1   1.0       85  66.0  29.0     0  26.6  0.351   31  tested_negative\n",
       "2   8.0      183  64.0   0.0     0  23.3  0.672   32  tested_positive\n",
       "3   1.0       89  66.0  23.0    94  28.1  0.167   21  tested_negative\n",
       "4   0.0      137  40.0  35.0   168  43.1  2.288   33  tested_positive"
      ]
     },
     "execution_count": 12,
     "metadata": {},
     "output_type": "execute_result"
    }
   ],
   "source": [
    "sDdf.head()"
   ]
  },
  {
   "cell_type": "code",
   "execution_count": 13,
   "id": "4b1c509d-2d5c-4601-bdcd-e803aafd7f62",
   "metadata": {},
   "outputs": [],
   "source": [
    "Ddf[\"Glucose_in_mmol\"]=Ddf[\"Glucose\"]/18.018 #dataframe[new column name]=Content\n",
    "#Converting Glucose from mg to mmol and creating new column"
   ]
  },
  {
   "cell_type": "code",
   "execution_count": 14,
   "id": "5d00e20c-8f4f-4369-b2cf-fc5a731932b6",
   "metadata": {
    "scrolled": true
   },
   "outputs": [
    {
     "data": {
      "text/html": [
       "<div>\n",
       "<style scoped>\n",
       "    .dataframe tbody tr th:only-of-type {\n",
       "        vertical-align: middle;\n",
       "    }\n",
       "\n",
       "    .dataframe tbody tr th {\n",
       "        vertical-align: top;\n",
       "    }\n",
       "\n",
       "    .dataframe thead th {\n",
       "        text-align: right;\n",
       "    }\n",
       "</style>\n",
       "<table border=\"1\" class=\"dataframe\">\n",
       "  <thead>\n",
       "    <tr style=\"text-align: right;\">\n",
       "      <th></th>\n",
       "      <th>preg</th>\n",
       "      <th>Glucose</th>\n",
       "      <th>pres</th>\n",
       "      <th>skin</th>\n",
       "      <th>insu</th>\n",
       "      <th>mass</th>\n",
       "      <th>pedi</th>\n",
       "      <th>age</th>\n",
       "      <th>class</th>\n",
       "      <th>Glucose_in_mmol</th>\n",
       "    </tr>\n",
       "  </thead>\n",
       "  <tbody>\n",
       "    <tr>\n",
       "      <th>0</th>\n",
       "      <td>6.0</td>\n",
       "      <td>148</td>\n",
       "      <td>72.0</td>\n",
       "      <td>35.0</td>\n",
       "      <td>0</td>\n",
       "      <td>33.6</td>\n",
       "      <td>0.627</td>\n",
       "      <td>50</td>\n",
       "      <td>tested_positive</td>\n",
       "      <td>8.214008</td>\n",
       "    </tr>\n",
       "    <tr>\n",
       "      <th>1</th>\n",
       "      <td>1.0</td>\n",
       "      <td>85</td>\n",
       "      <td>66.0</td>\n",
       "      <td>29.0</td>\n",
       "      <td>0</td>\n",
       "      <td>26.6</td>\n",
       "      <td>0.351</td>\n",
       "      <td>31</td>\n",
       "      <td>tested_negative</td>\n",
       "      <td>4.717505</td>\n",
       "    </tr>\n",
       "    <tr>\n",
       "      <th>2</th>\n",
       "      <td>8.0</td>\n",
       "      <td>183</td>\n",
       "      <td>64.0</td>\n",
       "      <td>0.0</td>\n",
       "      <td>0</td>\n",
       "      <td>23.3</td>\n",
       "      <td>0.672</td>\n",
       "      <td>32</td>\n",
       "      <td>tested_positive</td>\n",
       "      <td>10.156510</td>\n",
       "    </tr>\n",
       "    <tr>\n",
       "      <th>3</th>\n",
       "      <td>1.0</td>\n",
       "      <td>89</td>\n",
       "      <td>66.0</td>\n",
       "      <td>23.0</td>\n",
       "      <td>94</td>\n",
       "      <td>28.1</td>\n",
       "      <td>0.167</td>\n",
       "      <td>21</td>\n",
       "      <td>tested_negative</td>\n",
       "      <td>4.939505</td>\n",
       "    </tr>\n",
       "    <tr>\n",
       "      <th>4</th>\n",
       "      <td>0.0</td>\n",
       "      <td>137</td>\n",
       "      <td>40.0</td>\n",
       "      <td>35.0</td>\n",
       "      <td>168</td>\n",
       "      <td>43.1</td>\n",
       "      <td>2.288</td>\n",
       "      <td>33</td>\n",
       "      <td>tested_positive</td>\n",
       "      <td>7.603508</td>\n",
       "    </tr>\n",
       "    <tr>\n",
       "      <th>5</th>\n",
       "      <td>5.0</td>\n",
       "      <td>116</td>\n",
       "      <td>74.0</td>\n",
       "      <td>0.0</td>\n",
       "      <td>0</td>\n",
       "      <td>25.6</td>\n",
       "      <td>0.201</td>\n",
       "      <td>30</td>\n",
       "      <td>tested_negative</td>\n",
       "      <td>6.438006</td>\n",
       "    </tr>\n",
       "    <tr>\n",
       "      <th>6</th>\n",
       "      <td>3.0</td>\n",
       "      <td>78</td>\n",
       "      <td>50.0</td>\n",
       "      <td>32.0</td>\n",
       "      <td>88</td>\n",
       "      <td>31.0</td>\n",
       "      <td>0.248</td>\n",
       "      <td>26</td>\n",
       "      <td>tested_positive</td>\n",
       "      <td>4.329004</td>\n",
       "    </tr>\n",
       "    <tr>\n",
       "      <th>7</th>\n",
       "      <td>10.0</td>\n",
       "      <td>115</td>\n",
       "      <td>0.0</td>\n",
       "      <td>0.0</td>\n",
       "      <td>0</td>\n",
       "      <td>35.3</td>\n",
       "      <td>0.134</td>\n",
       "      <td>29</td>\n",
       "      <td>tested_negative</td>\n",
       "      <td>6.382506</td>\n",
       "    </tr>\n",
       "    <tr>\n",
       "      <th>8</th>\n",
       "      <td>2.0</td>\n",
       "      <td>197</td>\n",
       "      <td>70.0</td>\n",
       "      <td>45.0</td>\n",
       "      <td>543</td>\n",
       "      <td>30.5</td>\n",
       "      <td>0.158</td>\n",
       "      <td>53</td>\n",
       "      <td>tested_positive</td>\n",
       "      <td>10.933511</td>\n",
       "    </tr>\n",
       "    <tr>\n",
       "      <th>9</th>\n",
       "      <td>8.0</td>\n",
       "      <td>125</td>\n",
       "      <td>96.0</td>\n",
       "      <td>0.0</td>\n",
       "      <td>0</td>\n",
       "      <td>0.0</td>\n",
       "      <td>0.232</td>\n",
       "      <td>54</td>\n",
       "      <td>tested_positive</td>\n",
       "      <td>6.937507</td>\n",
       "    </tr>\n",
       "  </tbody>\n",
       "</table>\n",
       "</div>"
      ],
      "text/plain": [
       "   preg  Glucose  pres  skin  insu  mass   pedi  age            class  \\\n",
       "0   6.0      148  72.0  35.0     0  33.6  0.627   50  tested_positive   \n",
       "1   1.0       85  66.0  29.0     0  26.6  0.351   31  tested_negative   \n",
       "2   8.0      183  64.0   0.0     0  23.3  0.672   32  tested_positive   \n",
       "3   1.0       89  66.0  23.0    94  28.1  0.167   21  tested_negative   \n",
       "4   0.0      137  40.0  35.0   168  43.1  2.288   33  tested_positive   \n",
       "5   5.0      116  74.0   0.0     0  25.6  0.201   30  tested_negative   \n",
       "6   3.0       78  50.0  32.0    88  31.0  0.248   26  tested_positive   \n",
       "7  10.0      115   0.0   0.0     0  35.3  0.134   29  tested_negative   \n",
       "8   2.0      197  70.0  45.0   543  30.5  0.158   53  tested_positive   \n",
       "9   8.0      125  96.0   0.0     0   0.0  0.232   54  tested_positive   \n",
       "\n",
       "   Glucose_in_mmol  \n",
       "0         8.214008  \n",
       "1         4.717505  \n",
       "2        10.156510  \n",
       "3         4.939505  \n",
       "4         7.603508  \n",
       "5         6.438006  \n",
       "6         4.329004  \n",
       "7         6.382506  \n",
       "8        10.933511  \n",
       "9         6.937507  "
      ]
     },
     "execution_count": 14,
     "metadata": {},
     "output_type": "execute_result"
    }
   ],
   "source": [
    "Ddf.head(10)"
   ]
  },
  {
   "cell_type": "markdown",
   "id": "eab2d15f-05b8-464b-ab98-403b7be5ef04",
   "metadata": {},
   "source": [
    " # Filter and Groups"
   ]
  },
  {
   "cell_type": "code",
   "execution_count": 15,
   "id": "46750974-5025-49dc-b242-564c0fe88a64",
   "metadata": {},
   "outputs": [
    {
     "data": {
      "text/html": [
       "<div>\n",
       "<style scoped>\n",
       "    .dataframe tbody tr th:only-of-type {\n",
       "        vertical-align: middle;\n",
       "    }\n",
       "\n",
       "    .dataframe tbody tr th {\n",
       "        vertical-align: top;\n",
       "    }\n",
       "\n",
       "    .dataframe thead th {\n",
       "        text-align: right;\n",
       "    }\n",
       "</style>\n",
       "<table border=\"1\" class=\"dataframe\">\n",
       "  <thead>\n",
       "    <tr style=\"text-align: right;\">\n",
       "      <th></th>\n",
       "      <th>preg</th>\n",
       "      <th>Glucose</th>\n",
       "      <th>pres</th>\n",
       "      <th>skin</th>\n",
       "      <th>insu</th>\n",
       "      <th>mass</th>\n",
       "      <th>pedi</th>\n",
       "      <th>age</th>\n",
       "      <th>class</th>\n",
       "      <th>Glucose_in_mmol</th>\n",
       "    </tr>\n",
       "  </thead>\n",
       "  <tbody>\n",
       "    <tr>\n",
       "      <th>3</th>\n",
       "      <td>1.0</td>\n",
       "      <td>89</td>\n",
       "      <td>66.0</td>\n",
       "      <td>23.0</td>\n",
       "      <td>94</td>\n",
       "      <td>28.1</td>\n",
       "      <td>0.167</td>\n",
       "      <td>21</td>\n",
       "      <td>tested_negative</td>\n",
       "      <td>4.939505</td>\n",
       "    </tr>\n",
       "    <tr>\n",
       "      <th>6</th>\n",
       "      <td>3.0</td>\n",
       "      <td>78</td>\n",
       "      <td>50.0</td>\n",
       "      <td>32.0</td>\n",
       "      <td>88</td>\n",
       "      <td>31.0</td>\n",
       "      <td>0.248</td>\n",
       "      <td>26</td>\n",
       "      <td>tested_positive</td>\n",
       "      <td>4.329004</td>\n",
       "    </tr>\n",
       "    <tr>\n",
       "      <th>7</th>\n",
       "      <td>10.0</td>\n",
       "      <td>115</td>\n",
       "      <td>0.0</td>\n",
       "      <td>0.0</td>\n",
       "      <td>0</td>\n",
       "      <td>35.3</td>\n",
       "      <td>0.134</td>\n",
       "      <td>29</td>\n",
       "      <td>tested_negative</td>\n",
       "      <td>6.382506</td>\n",
       "    </tr>\n",
       "    <tr>\n",
       "      <th>20</th>\n",
       "      <td>3.0</td>\n",
       "      <td>126</td>\n",
       "      <td>88.0</td>\n",
       "      <td>41.0</td>\n",
       "      <td>235</td>\n",
       "      <td>39.3</td>\n",
       "      <td>0.704</td>\n",
       "      <td>27</td>\n",
       "      <td>tested_negative</td>\n",
       "      <td>6.993007</td>\n",
       "    </tr>\n",
       "    <tr>\n",
       "      <th>23</th>\n",
       "      <td>9.0</td>\n",
       "      <td>119</td>\n",
       "      <td>80.0</td>\n",
       "      <td>35.0</td>\n",
       "      <td>0</td>\n",
       "      <td>29.0</td>\n",
       "      <td>0.263</td>\n",
       "      <td>29</td>\n",
       "      <td>tested_positive</td>\n",
       "      <td>6.604507</td>\n",
       "    </tr>\n",
       "  </tbody>\n",
       "</table>\n",
       "</div>"
      ],
      "text/plain": [
       "    preg  Glucose  pres  skin  insu  mass   pedi  age            class  \\\n",
       "3    1.0       89  66.0  23.0    94  28.1  0.167   21  tested_negative   \n",
       "6    3.0       78  50.0  32.0    88  31.0  0.248   26  tested_positive   \n",
       "7   10.0      115   0.0   0.0     0  35.3  0.134   29  tested_negative   \n",
       "20   3.0      126  88.0  41.0   235  39.3  0.704   27  tested_negative   \n",
       "23   9.0      119  80.0  35.0     0  29.0  0.263   29  tested_positive   \n",
       "\n",
       "    Glucose_in_mmol  \n",
       "3          4.939505  \n",
       "6          4.329004  \n",
       "7          6.382506  \n",
       "20         6.993007  \n",
       "23         6.604507  "
      ]
     },
     "execution_count": 15,
     "metadata": {},
     "output_type": "execute_result"
    }
   ],
   "source": [
    "fil_age_30less=Ddf[Ddf[\"age\"]<30] #new df=your df[condition]\n",
    "fil_age_30less.head(5)"
   ]
  },
  {
   "cell_type": "code",
   "execution_count": 16,
   "id": "0cfa5001-7ea3-41c1-b88f-d360319fc2c5",
   "metadata": {},
   "outputs": [
    {
     "data": {
      "text/html": [
       "<div>\n",
       "<style scoped>\n",
       "    .dataframe tbody tr th:only-of-type {\n",
       "        vertical-align: middle;\n",
       "    }\n",
       "\n",
       "    .dataframe tbody tr th {\n",
       "        vertical-align: top;\n",
       "    }\n",
       "\n",
       "    .dataframe thead th {\n",
       "        text-align: right;\n",
       "    }\n",
       "</style>\n",
       "<table border=\"1\" class=\"dataframe\">\n",
       "  <thead>\n",
       "    <tr style=\"text-align: right;\">\n",
       "      <th></th>\n",
       "      <th>preg</th>\n",
       "      <th>Glucose</th>\n",
       "      <th>pres</th>\n",
       "      <th>skin</th>\n",
       "      <th>insu</th>\n",
       "      <th>mass</th>\n",
       "      <th>pedi</th>\n",
       "      <th>age</th>\n",
       "      <th>class</th>\n",
       "      <th>Glucose_in_mmol</th>\n",
       "    </tr>\n",
       "  </thead>\n",
       "  <tbody>\n",
       "    <tr>\n",
       "      <th>1</th>\n",
       "      <td>1.0</td>\n",
       "      <td>85</td>\n",
       "      <td>66.0</td>\n",
       "      <td>29.0</td>\n",
       "      <td>0</td>\n",
       "      <td>26.6</td>\n",
       "      <td>0.351</td>\n",
       "      <td>31</td>\n",
       "      <td>tested_negative</td>\n",
       "      <td>4.717505</td>\n",
       "    </tr>\n",
       "    <tr>\n",
       "      <th>3</th>\n",
       "      <td>1.0</td>\n",
       "      <td>89</td>\n",
       "      <td>66.0</td>\n",
       "      <td>23.0</td>\n",
       "      <td>94</td>\n",
       "      <td>28.1</td>\n",
       "      <td>0.167</td>\n",
       "      <td>21</td>\n",
       "      <td>tested_negative</td>\n",
       "      <td>4.939505</td>\n",
       "    </tr>\n",
       "    <tr>\n",
       "      <th>6</th>\n",
       "      <td>3.0</td>\n",
       "      <td>78</td>\n",
       "      <td>50.0</td>\n",
       "      <td>32.0</td>\n",
       "      <td>88</td>\n",
       "      <td>31.0</td>\n",
       "      <td>0.248</td>\n",
       "      <td>26</td>\n",
       "      <td>tested_positive</td>\n",
       "      <td>4.329004</td>\n",
       "    </tr>\n",
       "    <tr>\n",
       "      <th>21</th>\n",
       "      <td>8.0</td>\n",
       "      <td>99</td>\n",
       "      <td>84.0</td>\n",
       "      <td>0.0</td>\n",
       "      <td>0</td>\n",
       "      <td>35.4</td>\n",
       "      <td>0.388</td>\n",
       "      <td>50</td>\n",
       "      <td>tested_negative</td>\n",
       "      <td>5.494505</td>\n",
       "    </tr>\n",
       "    <tr>\n",
       "      <th>27</th>\n",
       "      <td>1.0</td>\n",
       "      <td>97</td>\n",
       "      <td>66.0</td>\n",
       "      <td>15.0</td>\n",
       "      <td>140</td>\n",
       "      <td>23.2</td>\n",
       "      <td>0.487</td>\n",
       "      <td>22</td>\n",
       "      <td>tested_negative</td>\n",
       "      <td>5.383505</td>\n",
       "    </tr>\n",
       "  </tbody>\n",
       "</table>\n",
       "</div>"
      ],
      "text/plain": [
       "    preg  Glucose  pres  skin  insu  mass   pedi  age            class  \\\n",
       "1    1.0       85  66.0  29.0     0  26.6  0.351   31  tested_negative   \n",
       "3    1.0       89  66.0  23.0    94  28.1  0.167   21  tested_negative   \n",
       "6    3.0       78  50.0  32.0    88  31.0  0.248   26  tested_positive   \n",
       "21   8.0       99  84.0   0.0     0  35.4  0.388   50  tested_negative   \n",
       "27   1.0       97  66.0  15.0   140  23.2  0.487   22  tested_negative   \n",
       "\n",
       "    Glucose_in_mmol  \n",
       "1          4.717505  \n",
       "3          4.939505  \n",
       "6          4.329004  \n",
       "21         5.494505  \n",
       "27         5.383505  "
      ]
     },
     "execution_count": 16,
     "metadata": {},
     "output_type": "execute_result"
    }
   ],
   "source": [
    "Glucose_below_100=Ddf[Ddf[\"Glucose\"]<100]\n",
    "Glucose_below_100.head(5)"
   ]
  },
  {
   "cell_type": "code",
   "execution_count": 17,
   "id": "0d83064d-d6be-48c6-ad13-3c68dab146f6",
   "metadata": {},
   "outputs": [
    {
     "data": {
      "text/html": [
       "<div>\n",
       "<style scoped>\n",
       "    .dataframe tbody tr th:only-of-type {\n",
       "        vertical-align: middle;\n",
       "    }\n",
       "\n",
       "    .dataframe tbody tr th {\n",
       "        vertical-align: top;\n",
       "    }\n",
       "\n",
       "    .dataframe thead th {\n",
       "        text-align: right;\n",
       "    }\n",
       "</style>\n",
       "<table border=\"1\" class=\"dataframe\">\n",
       "  <thead>\n",
       "    <tr style=\"text-align: right;\">\n",
       "      <th></th>\n",
       "      <th>preg</th>\n",
       "      <th>Glucose</th>\n",
       "      <th>pres</th>\n",
       "      <th>skin</th>\n",
       "      <th>insu</th>\n",
       "      <th>mass</th>\n",
       "      <th>pedi</th>\n",
       "      <th>age</th>\n",
       "      <th>class</th>\n",
       "      <th>Glucose_in_mmol</th>\n",
       "    </tr>\n",
       "  </thead>\n",
       "  <tbody>\n",
       "    <tr>\n",
       "      <th>0</th>\n",
       "      <td>6.0</td>\n",
       "      <td>148</td>\n",
       "      <td>72.0</td>\n",
       "      <td>35.0</td>\n",
       "      <td>0</td>\n",
       "      <td>33.6</td>\n",
       "      <td>0.627</td>\n",
       "      <td>50</td>\n",
       "      <td>tested_positive</td>\n",
       "      <td>8.214008</td>\n",
       "    </tr>\n",
       "    <tr>\n",
       "      <th>2</th>\n",
       "      <td>8.0</td>\n",
       "      <td>183</td>\n",
       "      <td>64.0</td>\n",
       "      <td>0.0</td>\n",
       "      <td>0</td>\n",
       "      <td>23.3</td>\n",
       "      <td>0.672</td>\n",
       "      <td>32</td>\n",
       "      <td>tested_positive</td>\n",
       "      <td>10.156510</td>\n",
       "    </tr>\n",
       "    <tr>\n",
       "      <th>4</th>\n",
       "      <td>0.0</td>\n",
       "      <td>137</td>\n",
       "      <td>40.0</td>\n",
       "      <td>35.0</td>\n",
       "      <td>168</td>\n",
       "      <td>43.1</td>\n",
       "      <td>2.288</td>\n",
       "      <td>33</td>\n",
       "      <td>tested_positive</td>\n",
       "      <td>7.603508</td>\n",
       "    </tr>\n",
       "    <tr>\n",
       "      <th>5</th>\n",
       "      <td>5.0</td>\n",
       "      <td>116</td>\n",
       "      <td>74.0</td>\n",
       "      <td>0.0</td>\n",
       "      <td>0</td>\n",
       "      <td>25.6</td>\n",
       "      <td>0.201</td>\n",
       "      <td>30</td>\n",
       "      <td>tested_negative</td>\n",
       "      <td>6.438006</td>\n",
       "    </tr>\n",
       "    <tr>\n",
       "      <th>7</th>\n",
       "      <td>10.0</td>\n",
       "      <td>115</td>\n",
       "      <td>0.0</td>\n",
       "      <td>0.0</td>\n",
       "      <td>0</td>\n",
       "      <td>35.3</td>\n",
       "      <td>0.134</td>\n",
       "      <td>29</td>\n",
       "      <td>tested_negative</td>\n",
       "      <td>6.382506</td>\n",
       "    </tr>\n",
       "  </tbody>\n",
       "</table>\n",
       "</div>"
      ],
      "text/plain": [
       "   preg  Glucose  pres  skin  insu  mass   pedi  age            class  \\\n",
       "0   6.0      148  72.0  35.0     0  33.6  0.627   50  tested_positive   \n",
       "2   8.0      183  64.0   0.0     0  23.3  0.672   32  tested_positive   \n",
       "4   0.0      137  40.0  35.0   168  43.1  2.288   33  tested_positive   \n",
       "5   5.0      116  74.0   0.0     0  25.6  0.201   30  tested_negative   \n",
       "7  10.0      115   0.0   0.0     0  35.3  0.134   29  tested_negative   \n",
       "\n",
       "   Glucose_in_mmol  \n",
       "0         8.214008  \n",
       "2        10.156510  \n",
       "4         7.603508  \n",
       "5         6.438006  \n",
       "7         6.382506  "
      ]
     },
     "execution_count": 17,
     "metadata": {},
     "output_type": "execute_result"
    }
   ],
   "source": [
    "Glucose_above_100=Ddf[Ddf[\"Glucose\"]>100]\n",
    "Glucose_above_100.head(5)"
   ]
  },
  {
   "cell_type": "markdown",
   "id": "7914fe31-aa95-4d2d-8dba-5f381384d720",
   "metadata": {},
   "source": [
    "Create a filtered data set which has only the rows with age between 20 and 30"
   ]
  },
  {
   "cell_type": "code",
   "execution_count": 18,
   "id": "cef3f33e-b775-40f9-b48e-1bfeb700c7c7",
   "metadata": {},
   "outputs": [
    {
     "data": {
      "text/html": [
       "<div>\n",
       "<style scoped>\n",
       "    .dataframe tbody tr th:only-of-type {\n",
       "        vertical-align: middle;\n",
       "    }\n",
       "\n",
       "    .dataframe tbody tr th {\n",
       "        vertical-align: top;\n",
       "    }\n",
       "\n",
       "    .dataframe thead th {\n",
       "        text-align: right;\n",
       "    }\n",
       "</style>\n",
       "<table border=\"1\" class=\"dataframe\">\n",
       "  <thead>\n",
       "    <tr style=\"text-align: right;\">\n",
       "      <th></th>\n",
       "      <th>preg</th>\n",
       "      <th>Glucose</th>\n",
       "      <th>pres</th>\n",
       "      <th>skin</th>\n",
       "      <th>insu</th>\n",
       "      <th>mass</th>\n",
       "      <th>pedi</th>\n",
       "      <th>age</th>\n",
       "      <th>class</th>\n",
       "      <th>Glucose_in_mmol</th>\n",
       "    </tr>\n",
       "  </thead>\n",
       "  <tbody>\n",
       "    <tr>\n",
       "      <th>3</th>\n",
       "      <td>1.0</td>\n",
       "      <td>89</td>\n",
       "      <td>66.0</td>\n",
       "      <td>23.0</td>\n",
       "      <td>94</td>\n",
       "      <td>28.1</td>\n",
       "      <td>0.167</td>\n",
       "      <td>21</td>\n",
       "      <td>tested_negative</td>\n",
       "      <td>4.939505</td>\n",
       "    </tr>\n",
       "    <tr>\n",
       "      <th>6</th>\n",
       "      <td>3.0</td>\n",
       "      <td>78</td>\n",
       "      <td>50.0</td>\n",
       "      <td>32.0</td>\n",
       "      <td>88</td>\n",
       "      <td>31.0</td>\n",
       "      <td>0.248</td>\n",
       "      <td>26</td>\n",
       "      <td>tested_positive</td>\n",
       "      <td>4.329004</td>\n",
       "    </tr>\n",
       "    <tr>\n",
       "      <th>7</th>\n",
       "      <td>10.0</td>\n",
       "      <td>115</td>\n",
       "      <td>0.0</td>\n",
       "      <td>0.0</td>\n",
       "      <td>0</td>\n",
       "      <td>35.3</td>\n",
       "      <td>0.134</td>\n",
       "      <td>29</td>\n",
       "      <td>tested_negative</td>\n",
       "      <td>6.382506</td>\n",
       "    </tr>\n",
       "    <tr>\n",
       "      <th>20</th>\n",
       "      <td>3.0</td>\n",
       "      <td>126</td>\n",
       "      <td>88.0</td>\n",
       "      <td>41.0</td>\n",
       "      <td>235</td>\n",
       "      <td>39.3</td>\n",
       "      <td>0.704</td>\n",
       "      <td>27</td>\n",
       "      <td>tested_negative</td>\n",
       "      <td>6.993007</td>\n",
       "    </tr>\n",
       "    <tr>\n",
       "      <th>23</th>\n",
       "      <td>9.0</td>\n",
       "      <td>119</td>\n",
       "      <td>80.0</td>\n",
       "      <td>35.0</td>\n",
       "      <td>0</td>\n",
       "      <td>29.0</td>\n",
       "      <td>0.263</td>\n",
       "      <td>29</td>\n",
       "      <td>tested_positive</td>\n",
       "      <td>6.604507</td>\n",
       "    </tr>\n",
       "    <tr>\n",
       "      <th>27</th>\n",
       "      <td>1.0</td>\n",
       "      <td>97</td>\n",
       "      <td>66.0</td>\n",
       "      <td>15.0</td>\n",
       "      <td>140</td>\n",
       "      <td>23.2</td>\n",
       "      <td>0.487</td>\n",
       "      <td>22</td>\n",
       "      <td>tested_negative</td>\n",
       "      <td>5.383505</td>\n",
       "    </tr>\n",
       "    <tr>\n",
       "      <th>31</th>\n",
       "      <td>3.0</td>\n",
       "      <td>158</td>\n",
       "      <td>76.0</td>\n",
       "      <td>36.0</td>\n",
       "      <td>245</td>\n",
       "      <td>31.6</td>\n",
       "      <td>0.851</td>\n",
       "      <td>28</td>\n",
       "      <td>tested_positive</td>\n",
       "      <td>8.769009</td>\n",
       "    </tr>\n",
       "    <tr>\n",
       "      <th>32</th>\n",
       "      <td>3.0</td>\n",
       "      <td>88</td>\n",
       "      <td>58.0</td>\n",
       "      <td>11.0</td>\n",
       "      <td>54</td>\n",
       "      <td>24.8</td>\n",
       "      <td>0.267</td>\n",
       "      <td>22</td>\n",
       "      <td>tested_negative</td>\n",
       "      <td>4.884005</td>\n",
       "    </tr>\n",
       "    <tr>\n",
       "      <th>33</th>\n",
       "      <td>6.0</td>\n",
       "      <td>92</td>\n",
       "      <td>92.0</td>\n",
       "      <td>0.0</td>\n",
       "      <td>0</td>\n",
       "      <td>19.9</td>\n",
       "      <td>0.188</td>\n",
       "      <td>28</td>\n",
       "      <td>tested_negative</td>\n",
       "      <td>5.106005</td>\n",
       "    </tr>\n",
       "    <tr>\n",
       "      <th>40</th>\n",
       "      <td>3.0</td>\n",
       "      <td>180</td>\n",
       "      <td>64.0</td>\n",
       "      <td>25.0</td>\n",
       "      <td>70</td>\n",
       "      <td>34.0</td>\n",
       "      <td>0.271</td>\n",
       "      <td>26</td>\n",
       "      <td>tested_negative</td>\n",
       "      <td>9.990010</td>\n",
       "    </tr>\n",
       "  </tbody>\n",
       "</table>\n",
       "</div>"
      ],
      "text/plain": [
       "    preg  Glucose  pres  skin  insu  mass   pedi  age            class  \\\n",
       "3    1.0       89  66.0  23.0    94  28.1  0.167   21  tested_negative   \n",
       "6    3.0       78  50.0  32.0    88  31.0  0.248   26  tested_positive   \n",
       "7   10.0      115   0.0   0.0     0  35.3  0.134   29  tested_negative   \n",
       "20   3.0      126  88.0  41.0   235  39.3  0.704   27  tested_negative   \n",
       "23   9.0      119  80.0  35.0     0  29.0  0.263   29  tested_positive   \n",
       "27   1.0       97  66.0  15.0   140  23.2  0.487   22  tested_negative   \n",
       "31   3.0      158  76.0  36.0   245  31.6  0.851   28  tested_positive   \n",
       "32   3.0       88  58.0  11.0    54  24.8  0.267   22  tested_negative   \n",
       "33   6.0       92  92.0   0.0     0  19.9  0.188   28  tested_negative   \n",
       "40   3.0      180  64.0  25.0    70  34.0  0.271   26  tested_negative   \n",
       "\n",
       "    Glucose_in_mmol  \n",
       "3          4.939505  \n",
       "6          4.329004  \n",
       "7          6.382506  \n",
       "20         6.993007  \n",
       "23         6.604507  \n",
       "27         5.383505  \n",
       "31         8.769009  \n",
       "32         4.884005  \n",
       "33         5.106005  \n",
       "40         9.990010  "
      ]
     },
     "execution_count": 18,
     "metadata": {},
     "output_type": "execute_result"
    }
   ],
   "source": [
    "fil_age=Ddf[(Ddf[\"age\"]>20) & (Ddf[\"age\"]<30)] \n",
    "fil_age.head(10)"
   ]
  },
  {
   "cell_type": "code",
   "execution_count": 22,
   "id": "041458f9-7d91-4202-ad03-eb03fbec5eb1",
   "metadata": {},
   "outputs": [
    {
     "data": {
      "text/plain": [
       "class\n",
       "tested_negative    31.238095\n",
       "tested_positive    40.589744\n",
       "Name: age, dtype: float64"
      ]
     },
     "execution_count": 22,
     "metadata": {},
     "output_type": "execute_result"
    }
   ],
   "source": [
    "# Group by clas and calculate average age\n",
    "grouped_by_class_age=Ddf.groupby(\"class\")[\"age\"].mean()\n",
    "grouped_by_class_age\n",
    "#Results:\n",
    "# The average age of diabetic tested_positive is 40.5\n",
    "# The avrerage age of non-diabetic tested_negative is 31.23"
   ]
  },
  {
   "cell_type": "code",
   "execution_count": 20,
   "id": "e7776e3c-e36d-491c-8e41-2db2083b0535",
   "metadata": {},
   "outputs": [
    {
     "data": {
      "text/plain": [
       "class\n",
       "tested_negative     52.571429\n",
       "tested_positive    114.692308\n",
       "Name: insu, dtype: float64"
      ]
     },
     "execution_count": 20,
     "metadata": {},
     "output_type": "execute_result"
    }
   ],
   "source": [
    "group_class_ins=Ddf.groupby(\"class\")[\"insu\"].mean()\n",
    "group_class_ins\n",
    "#Results:\n",
    "# The average insulin level of diabetic people is 114.69\n",
    "# The average insulin level of non-diabetic people is 52.57"
   ]
  },
  {
   "cell_type": "code",
   "execution_count": 24,
   "id": "40d09606-60d4-4cc0-a816-2c3432dc9174",
   "metadata": {},
   "outputs": [
    {
     "data": {
      "text/plain": [
       "class\n",
       "tested_negative    21\n",
       "tested_positive    25\n",
       "Name: age, dtype: int64"
      ]
     },
     "execution_count": 24,
     "metadata": {},
     "output_type": "execute_result"
    }
   ],
   "source": [
    "grouped_by_class_age=Ddf.groupby(\"class\")[\"age\"].min()\n",
    "grouped_by_class_age"
   ]
  },
  {
   "cell_type": "code",
   "execution_count": 25,
   "id": "21353d38-9052-4d05-9aa6-11ab2c777614",
   "metadata": {},
   "outputs": [
    {
     "data": {
      "text/plain": [
       "class\n",
       "tested_negative    60\n",
       "tested_positive    60\n",
       "Name: age, dtype: int64"
      ]
     },
     "execution_count": 25,
     "metadata": {},
     "output_type": "execute_result"
    }
   ],
   "source": [
    "grouped_by_class_age=Ddf.groupby(\"class\")[\"age\"].max()\n",
    "grouped_by_class_age"
   ]
  },
  {
   "cell_type": "code",
   "execution_count": 26,
   "id": "282c0ccc-247e-4d00-906a-1265ccefd3d5",
   "metadata": {},
   "outputs": [
    {
     "data": {
      "text/plain": [
       "class\n",
       "tested_negative    1968\n",
       "tested_positive    1583\n",
       "Name: age, dtype: int64"
      ]
     },
     "execution_count": 26,
     "metadata": {},
     "output_type": "execute_result"
    }
   ],
   "source": [
    "grouped_by_class_age=Ddf.groupby(\"class\")[\"age\"].sum()\n",
    "grouped_by_class_age"
   ]
  },
  {
   "cell_type": "markdown",
   "id": "88b47a3a-0262-4b1c-b44b-a582a3d0313c",
   "metadata": {},
   "source": [
    "# Cleaning Data"
   ]
  },
  {
   "cell_type": "markdown",
   "id": "54b8e943-5307-41c0-9c53-573bdddd60cd",
   "metadata": {},
   "source": [
    "# Handling Nulls"
   ]
  },
  {
   "cell_type": "code",
   "execution_count": 32,
   "id": "82f948d6-183f-4153-9292-8d089fa08676",
   "metadata": {},
   "outputs": [
    {
     "data": {
      "text/plain": [
       "preg               1\n",
       "Glucose            0\n",
       "pres               1\n",
       "skin               1\n",
       "insu               0\n",
       "mass               1\n",
       "pedi               1\n",
       "age                0\n",
       "class              0\n",
       "Glucose_in_mmol    0\n",
       "dtype: int64"
      ]
     },
     "execution_count": 32,
     "metadata": {},
     "output_type": "execute_result"
    }
   ],
   "source": [
    "Ddf.isnull().sum()"
   ]
  },
  {
   "cell_type": "code",
   "execution_count": 33,
   "id": "61e2ec07-d6c4-4257-9405-5176c73f98ae",
   "metadata": {},
   "outputs": [
    {
     "name": "stdout",
     "output_type": "stream",
     "text": [
      "<class 'pandas.core.frame.DataFrame'>\n",
      "RangeIndex: 102 entries, 0 to 101\n",
      "Data columns (total 10 columns):\n",
      " #   Column           Non-Null Count  Dtype  \n",
      "---  ------           --------------  -----  \n",
      " 0   preg             101 non-null    float64\n",
      " 1   Glucose          102 non-null    int64  \n",
      " 2   pres             101 non-null    float64\n",
      " 3   skin             101 non-null    float64\n",
      " 4   insu             102 non-null    int64  \n",
      " 5   mass             101 non-null    float64\n",
      " 6   pedi             101 non-null    float64\n",
      " 7   age              102 non-null    int64  \n",
      " 8   class            102 non-null    object \n",
      " 9   Glucose_in_mmol  102 non-null    float64\n",
      "dtypes: float64(6), int64(3), object(1)\n",
      "memory usage: 8.1+ KB\n"
     ]
    }
   ],
   "source": [
    "Ddf.info()"
   ]
  },
  {
   "cell_type": "code",
   "execution_count": 34,
   "id": "f69bdee6-0b24-4c5a-9d2d-ee966f5ad7a8",
   "metadata": {},
   "outputs": [
    {
     "data": {
      "text/html": [
       "<div>\n",
       "<style scoped>\n",
       "    .dataframe tbody tr th:only-of-type {\n",
       "        vertical-align: middle;\n",
       "    }\n",
       "\n",
       "    .dataframe tbody tr th {\n",
       "        vertical-align: top;\n",
       "    }\n",
       "\n",
       "    .dataframe thead th {\n",
       "        text-align: right;\n",
       "    }\n",
       "</style>\n",
       "<table border=\"1\" class=\"dataframe\">\n",
       "  <thead>\n",
       "    <tr style=\"text-align: right;\">\n",
       "      <th></th>\n",
       "      <th>preg</th>\n",
       "      <th>Glucose</th>\n",
       "      <th>pres</th>\n",
       "      <th>skin</th>\n",
       "      <th>insu</th>\n",
       "      <th>mass</th>\n",
       "      <th>pedi</th>\n",
       "      <th>age</th>\n",
       "      <th>class</th>\n",
       "      <th>Glucose_in_mmol</th>\n",
       "    </tr>\n",
       "  </thead>\n",
       "  <tbody>\n",
       "    <tr>\n",
       "      <th>0</th>\n",
       "      <td>False</td>\n",
       "      <td>False</td>\n",
       "      <td>False</td>\n",
       "      <td>False</td>\n",
       "      <td>False</td>\n",
       "      <td>False</td>\n",
       "      <td>False</td>\n",
       "      <td>False</td>\n",
       "      <td>False</td>\n",
       "      <td>False</td>\n",
       "    </tr>\n",
       "    <tr>\n",
       "      <th>1</th>\n",
       "      <td>False</td>\n",
       "      <td>False</td>\n",
       "      <td>False</td>\n",
       "      <td>False</td>\n",
       "      <td>False</td>\n",
       "      <td>False</td>\n",
       "      <td>False</td>\n",
       "      <td>False</td>\n",
       "      <td>False</td>\n",
       "      <td>False</td>\n",
       "    </tr>\n",
       "    <tr>\n",
       "      <th>2</th>\n",
       "      <td>False</td>\n",
       "      <td>False</td>\n",
       "      <td>False</td>\n",
       "      <td>False</td>\n",
       "      <td>False</td>\n",
       "      <td>False</td>\n",
       "      <td>False</td>\n",
       "      <td>False</td>\n",
       "      <td>False</td>\n",
       "      <td>False</td>\n",
       "    </tr>\n",
       "    <tr>\n",
       "      <th>3</th>\n",
       "      <td>False</td>\n",
       "      <td>False</td>\n",
       "      <td>False</td>\n",
       "      <td>False</td>\n",
       "      <td>False</td>\n",
       "      <td>False</td>\n",
       "      <td>False</td>\n",
       "      <td>False</td>\n",
       "      <td>False</td>\n",
       "      <td>False</td>\n",
       "    </tr>\n",
       "    <tr>\n",
       "      <th>4</th>\n",
       "      <td>False</td>\n",
       "      <td>False</td>\n",
       "      <td>False</td>\n",
       "      <td>False</td>\n",
       "      <td>False</td>\n",
       "      <td>False</td>\n",
       "      <td>False</td>\n",
       "      <td>False</td>\n",
       "      <td>False</td>\n",
       "      <td>False</td>\n",
       "    </tr>\n",
       "    <tr>\n",
       "      <th>...</th>\n",
       "      <td>...</td>\n",
       "      <td>...</td>\n",
       "      <td>...</td>\n",
       "      <td>...</td>\n",
       "      <td>...</td>\n",
       "      <td>...</td>\n",
       "      <td>...</td>\n",
       "      <td>...</td>\n",
       "      <td>...</td>\n",
       "      <td>...</td>\n",
       "    </tr>\n",
       "    <tr>\n",
       "      <th>97</th>\n",
       "      <td>False</td>\n",
       "      <td>False</td>\n",
       "      <td>False</td>\n",
       "      <td>True</td>\n",
       "      <td>False</td>\n",
       "      <td>False</td>\n",
       "      <td>False</td>\n",
       "      <td>False</td>\n",
       "      <td>False</td>\n",
       "      <td>False</td>\n",
       "    </tr>\n",
       "    <tr>\n",
       "      <th>98</th>\n",
       "      <td>False</td>\n",
       "      <td>False</td>\n",
       "      <td>False</td>\n",
       "      <td>False</td>\n",
       "      <td>False</td>\n",
       "      <td>False</td>\n",
       "      <td>False</td>\n",
       "      <td>False</td>\n",
       "      <td>False</td>\n",
       "      <td>False</td>\n",
       "    </tr>\n",
       "    <tr>\n",
       "      <th>99</th>\n",
       "      <td>True</td>\n",
       "      <td>False</td>\n",
       "      <td>False</td>\n",
       "      <td>False</td>\n",
       "      <td>False</td>\n",
       "      <td>False</td>\n",
       "      <td>False</td>\n",
       "      <td>False</td>\n",
       "      <td>False</td>\n",
       "      <td>False</td>\n",
       "    </tr>\n",
       "    <tr>\n",
       "      <th>100</th>\n",
       "      <td>False</td>\n",
       "      <td>False</td>\n",
       "      <td>False</td>\n",
       "      <td>False</td>\n",
       "      <td>False</td>\n",
       "      <td>False</td>\n",
       "      <td>False</td>\n",
       "      <td>False</td>\n",
       "      <td>False</td>\n",
       "      <td>False</td>\n",
       "    </tr>\n",
       "    <tr>\n",
       "      <th>101</th>\n",
       "      <td>False</td>\n",
       "      <td>False</td>\n",
       "      <td>False</td>\n",
       "      <td>False</td>\n",
       "      <td>False</td>\n",
       "      <td>False</td>\n",
       "      <td>False</td>\n",
       "      <td>False</td>\n",
       "      <td>False</td>\n",
       "      <td>False</td>\n",
       "    </tr>\n",
       "  </tbody>\n",
       "</table>\n",
       "<p>102 rows × 10 columns</p>\n",
       "</div>"
      ],
      "text/plain": [
       "      preg  Glucose   pres   skin   insu   mass   pedi    age  class  \\\n",
       "0    False    False  False  False  False  False  False  False  False   \n",
       "1    False    False  False  False  False  False  False  False  False   \n",
       "2    False    False  False  False  False  False  False  False  False   \n",
       "3    False    False  False  False  False  False  False  False  False   \n",
       "4    False    False  False  False  False  False  False  False  False   \n",
       "..     ...      ...    ...    ...    ...    ...    ...    ...    ...   \n",
       "97   False    False  False   True  False  False  False  False  False   \n",
       "98   False    False  False  False  False  False  False  False  False   \n",
       "99    True    False  False  False  False  False  False  False  False   \n",
       "100  False    False  False  False  False  False  False  False  False   \n",
       "101  False    False  False  False  False  False  False  False  False   \n",
       "\n",
       "     Glucose_in_mmol  \n",
       "0              False  \n",
       "1              False  \n",
       "2              False  \n",
       "3              False  \n",
       "4              False  \n",
       "..               ...  \n",
       "97             False  \n",
       "98             False  \n",
       "99             False  \n",
       "100            False  \n",
       "101            False  \n",
       "\n",
       "[102 rows x 10 columns]"
      ]
     },
     "execution_count": 34,
     "metadata": {},
     "output_type": "execute_result"
    }
   ],
   "source": [
    "Ddf.isnull()"
   ]
  },
  {
   "cell_type": "code",
   "execution_count": 35,
   "id": "973ee0cb-2a3f-4f66-a045-542c0e3f0a2d",
   "metadata": {},
   "outputs": [
    {
     "name": "stdout",
     "output_type": "stream",
     "text": [
      "<class 'pandas.core.frame.DataFrame'>\n",
      "RangeIndex: 102 entries, 0 to 101\n",
      "Data columns (total 10 columns):\n",
      " #   Column           Non-Null Count  Dtype  \n",
      "---  ------           --------------  -----  \n",
      " 0   preg             101 non-null    float64\n",
      " 1   Glucose          102 non-null    int64  \n",
      " 2   pres             101 non-null    float64\n",
      " 3   skin             101 non-null    float64\n",
      " 4   insu             102 non-null    int64  \n",
      " 5   mass             101 non-null    float64\n",
      " 6   pedi             101 non-null    float64\n",
      " 7   age              102 non-null    int64  \n",
      " 8   class            102 non-null    object \n",
      " 9   Glucose_in_mmol  102 non-null    float64\n",
      "dtypes: float64(6), int64(3), object(1)\n",
      "memory usage: 8.1+ KB\n"
     ]
    }
   ],
   "source": [
    "Ddf.info()"
   ]
  },
  {
   "cell_type": "code",
   "execution_count": 36,
   "id": "881485f4-6359-47b2-97b2-5a4a77cfcf63",
   "metadata": {},
   "outputs": [],
   "source": [
    "Ddf.dropna(inplace=True)"
   ]
  },
  {
   "cell_type": "code",
   "execution_count": 37,
   "id": "3eb8d98c-f540-4ae9-92a3-cade36902a0a",
   "metadata": {},
   "outputs": [
    {
     "name": "stdout",
     "output_type": "stream",
     "text": [
      "<class 'pandas.core.frame.DataFrame'>\n",
      "Index: 98 entries, 0 to 101\n",
      "Data columns (total 10 columns):\n",
      " #   Column           Non-Null Count  Dtype  \n",
      "---  ------           --------------  -----  \n",
      " 0   preg             98 non-null     float64\n",
      " 1   Glucose          98 non-null     int64  \n",
      " 2   pres             98 non-null     float64\n",
      " 3   skin             98 non-null     float64\n",
      " 4   insu             98 non-null     int64  \n",
      " 5   mass             98 non-null     float64\n",
      " 6   pedi             98 non-null     float64\n",
      " 7   age              98 non-null     int64  \n",
      " 8   class            98 non-null     object \n",
      " 9   Glucose_in_mmol  98 non-null     float64\n",
      "dtypes: float64(6), int64(3), object(1)\n",
      "memory usage: 8.4+ KB\n"
     ]
    }
   ],
   "source": [
    "Ddf.info()"
   ]
  },
  {
   "cell_type": "code",
   "execution_count": 38,
   "id": "ac159d65-1689-4db0-8429-9b385a29fe66",
   "metadata": {},
   "outputs": [
    {
     "data": {
      "text/plain": [
       "preg               0\n",
       "Glucose            0\n",
       "pres               0\n",
       "skin               0\n",
       "insu               0\n",
       "mass               0\n",
       "pedi               0\n",
       "age                0\n",
       "class              0\n",
       "Glucose_in_mmol    0\n",
       "dtype: int64"
      ]
     },
     "execution_count": 38,
     "metadata": {},
     "output_type": "execute_result"
    }
   ],
   "source": [
    "Ddf.isnull().sum()"
   ]
  },
  {
   "cell_type": "markdown",
   "id": "d0ad51be-6043-44fa-9f85-3a88743be1c5",
   "metadata": {},
   "source": [
    "# Handling Duplicates"
   ]
  },
  {
   "cell_type": "code",
   "execution_count": 40,
   "id": "bb8f2d23-7fb3-4de5-a35f-4ca65a3bb3b1",
   "metadata": {},
   "outputs": [
    {
     "name": "stdout",
     "output_type": "stream",
     "text": [
      "<class 'pandas.core.frame.DataFrame'>\n",
      "Index: 98 entries, 0 to 101\n",
      "Data columns (total 10 columns):\n",
      " #   Column           Non-Null Count  Dtype  \n",
      "---  ------           --------------  -----  \n",
      " 0   preg             98 non-null     float64\n",
      " 1   Glucose          98 non-null     int64  \n",
      " 2   pres             98 non-null     float64\n",
      " 3   skin             98 non-null     float64\n",
      " 4   insu             98 non-null     int64  \n",
      " 5   mass             98 non-null     float64\n",
      " 6   pedi             98 non-null     float64\n",
      " 7   age              98 non-null     int64  \n",
      " 8   class            98 non-null     object \n",
      " 9   Glucose_in_mmol  98 non-null     float64\n",
      "dtypes: float64(6), int64(3), object(1)\n",
      "memory usage: 8.4+ KB\n"
     ]
    }
   ],
   "source": [
    "Ddf.info()"
   ]
  },
  {
   "cell_type": "code",
   "execution_count": 41,
   "id": "3d6c33be-44d3-495d-a3b8-fadca0ad328a",
   "metadata": {},
   "outputs": [],
   "source": [
    "Ddf.drop_duplicates(inplace=True)"
   ]
  },
  {
   "cell_type": "code",
   "execution_count": 42,
   "id": "6f50dd14-d409-4f12-9c08-1c3eb7cceac5",
   "metadata": {},
   "outputs": [
    {
     "name": "stdout",
     "output_type": "stream",
     "text": [
      "<class 'pandas.core.frame.DataFrame'>\n",
      "Index: 96 entries, 0 to 101\n",
      "Data columns (total 10 columns):\n",
      " #   Column           Non-Null Count  Dtype  \n",
      "---  ------           --------------  -----  \n",
      " 0   preg             96 non-null     float64\n",
      " 1   Glucose          96 non-null     int64  \n",
      " 2   pres             96 non-null     float64\n",
      " 3   skin             96 non-null     float64\n",
      " 4   insu             96 non-null     int64  \n",
      " 5   mass             96 non-null     float64\n",
      " 6   pedi             96 non-null     float64\n",
      " 7   age              96 non-null     int64  \n",
      " 8   class            96 non-null     object \n",
      " 9   Glucose_in_mmol  96 non-null     float64\n",
      "dtypes: float64(6), int64(3), object(1)\n",
      "memory usage: 8.2+ KB\n"
     ]
    }
   ],
   "source": [
    "Ddf.info()"
   ]
  },
  {
   "cell_type": "markdown",
   "id": "5aca3ee8-0a95-4df0-8f73-4a225cf928f9",
   "metadata": {},
   "source": [
    "# Reading Other Formats"
   ]
  },
  {
   "cell_type": "code",
   "execution_count": 44,
   "id": "d15df29d-fc71-431f-86e1-0999b7bdaa50",
   "metadata": {},
   "outputs": [],
   "source": [
    "dia_ex=pd.read_excel(r\"C:\\Mypythonfiles\\diabetes.xlsx\")"
   ]
  },
  {
   "cell_type": "code",
   "execution_count": 45,
   "id": "29a1d91f-a360-42b5-8c95-c6cb72b21989",
   "metadata": {},
   "outputs": [
    {
     "data": {
      "text/html": [
       "<div>\n",
       "<style scoped>\n",
       "    .dataframe tbody tr th:only-of-type {\n",
       "        vertical-align: middle;\n",
       "    }\n",
       "\n",
       "    .dataframe tbody tr th {\n",
       "        vertical-align: top;\n",
       "    }\n",
       "\n",
       "    .dataframe thead th {\n",
       "        text-align: right;\n",
       "    }\n",
       "</style>\n",
       "<table border=\"1\" class=\"dataframe\">\n",
       "  <thead>\n",
       "    <tr style=\"text-align: right;\">\n",
       "      <th></th>\n",
       "      <th>preg</th>\n",
       "      <th>plas</th>\n",
       "      <th>pres</th>\n",
       "      <th>skin</th>\n",
       "      <th>insu</th>\n",
       "      <th>mass</th>\n",
       "      <th>pedi</th>\n",
       "      <th>age</th>\n",
       "      <th>class</th>\n",
       "    </tr>\n",
       "  </thead>\n",
       "  <tbody>\n",
       "    <tr>\n",
       "      <th>0</th>\n",
       "      <td>6</td>\n",
       "      <td>148</td>\n",
       "      <td>72</td>\n",
       "      <td>35</td>\n",
       "      <td>0</td>\n",
       "      <td>33.6</td>\n",
       "      <td>0.627</td>\n",
       "      <td>50</td>\n",
       "      <td>tested_positive</td>\n",
       "    </tr>\n",
       "    <tr>\n",
       "      <th>1</th>\n",
       "      <td>1</td>\n",
       "      <td>85</td>\n",
       "      <td>66</td>\n",
       "      <td>29</td>\n",
       "      <td>0</td>\n",
       "      <td>26.6</td>\n",
       "      <td>0.351</td>\n",
       "      <td>31</td>\n",
       "      <td>tested_negative</td>\n",
       "    </tr>\n",
       "    <tr>\n",
       "      <th>2</th>\n",
       "      <td>8</td>\n",
       "      <td>183</td>\n",
       "      <td>64</td>\n",
       "      <td>0</td>\n",
       "      <td>0</td>\n",
       "      <td>23.3</td>\n",
       "      <td>0.672</td>\n",
       "      <td>32</td>\n",
       "      <td>tested_positive</td>\n",
       "    </tr>\n",
       "    <tr>\n",
       "      <th>3</th>\n",
       "      <td>1</td>\n",
       "      <td>89</td>\n",
       "      <td>66</td>\n",
       "      <td>23</td>\n",
       "      <td>94</td>\n",
       "      <td>28.1</td>\n",
       "      <td>0.167</td>\n",
       "      <td>21</td>\n",
       "      <td>tested_negative</td>\n",
       "    </tr>\n",
       "    <tr>\n",
       "      <th>4</th>\n",
       "      <td>0</td>\n",
       "      <td>137</td>\n",
       "      <td>40</td>\n",
       "      <td>35</td>\n",
       "      <td>168</td>\n",
       "      <td>43.1</td>\n",
       "      <td>2.288</td>\n",
       "      <td>33</td>\n",
       "      <td>tested_positive</td>\n",
       "    </tr>\n",
       "  </tbody>\n",
       "</table>\n",
       "</div>"
      ],
      "text/plain": [
       "   preg  plas  pres  skin  insu  mass   pedi  age            class\n",
       "0     6   148    72    35     0  33.6  0.627   50  tested_positive\n",
       "1     1    85    66    29     0  26.6  0.351   31  tested_negative\n",
       "2     8   183    64     0     0  23.3  0.672   32  tested_positive\n",
       "3     1    89    66    23    94  28.1  0.167   21  tested_negative\n",
       "4     0   137    40    35   168  43.1  2.288   33  tested_positive"
      ]
     },
     "execution_count": 45,
     "metadata": {},
     "output_type": "execute_result"
    }
   ],
   "source": [
    "dia_ex.head()"
   ]
  },
  {
   "cell_type": "code",
   "execution_count": 55,
   "id": "bb810db3-73b7-488b-8b66-9e5e46f195ce",
   "metadata": {},
   "outputs": [
    {
     "data": {
      "text/html": [
       "<div>\n",
       "<style scoped>\n",
       "    .dataframe tbody tr th:only-of-type {\n",
       "        vertical-align: middle;\n",
       "    }\n",
       "\n",
       "    .dataframe tbody tr th {\n",
       "        vertical-align: top;\n",
       "    }\n",
       "\n",
       "    .dataframe thead th {\n",
       "        text-align: right;\n",
       "    }\n",
       "</style>\n",
       "<table border=\"1\" class=\"dataframe\">\n",
       "  <thead>\n",
       "    <tr style=\"text-align: right;\">\n",
       "      <th></th>\n",
       "      <th>Dead</th>\n",
       "      <th>Alive</th>\n",
       "    </tr>\n",
       "  </thead>\n",
       "  <tbody>\n",
       "    <tr>\n",
       "      <th>0</th>\n",
       "      <td>yes</td>\n",
       "      <td>no</td>\n",
       "    </tr>\n",
       "    <tr>\n",
       "      <th>1</th>\n",
       "      <td>yes</td>\n",
       "      <td>no</td>\n",
       "    </tr>\n",
       "    <tr>\n",
       "      <th>2</th>\n",
       "      <td>yes</td>\n",
       "      <td>no</td>\n",
       "    </tr>\n",
       "    <tr>\n",
       "      <th>3</th>\n",
       "      <td>yes</td>\n",
       "      <td>no</td>\n",
       "    </tr>\n",
       "    <tr>\n",
       "      <th>4</th>\n",
       "      <td>yes</td>\n",
       "      <td>no</td>\n",
       "    </tr>\n",
       "  </tbody>\n",
       "</table>\n",
       "</div>"
      ],
      "text/plain": [
       "  Dead Alive\n",
       "0  yes    no\n",
       "1  yes    no\n",
       "2  yes    no\n",
       "3  yes    no\n",
       "4  yes    no"
      ]
     },
     "execution_count": 55,
     "metadata": {},
     "output_type": "execute_result"
    }
   ],
   "source": [
    "dia_ex=pd.read_excel(r\"C:\\Mypythonfiles\\diabetes.xlsx\", sheet_name=\"dora\")\n",
    "dia_ex.head()"
   ]
  },
  {
   "cell_type": "code",
   "execution_count": 56,
   "id": "cdf93d0b-8009-484a-a43e-c4c44290aaed",
   "metadata": {},
   "outputs": [],
   "source": [
    "df_txt=pd.read_csv(r\"C:\\Mypythonfiles\\grades.txt\")"
   ]
  },
  {
   "cell_type": "code",
   "execution_count": 57,
   "id": "1135aa3d-c38a-45e4-875e-062a9a2a2891",
   "metadata": {},
   "outputs": [
    {
     "data": {
      "text/html": [
       "<div>\n",
       "<style scoped>\n",
       "    .dataframe tbody tr th:only-of-type {\n",
       "        vertical-align: middle;\n",
       "    }\n",
       "\n",
       "    .dataframe tbody tr th {\n",
       "        vertical-align: top;\n",
       "    }\n",
       "\n",
       "    .dataframe thead th {\n",
       "        text-align: right;\n",
       "    }\n",
       "</style>\n",
       "<table border=\"1\" class=\"dataframe\">\n",
       "  <thead>\n",
       "    <tr style=\"text-align: right;\">\n",
       "      <th></th>\n",
       "      <th>Names Initials SEM1 SEM2 SEM3 Grade</th>\n",
       "    </tr>\n",
       "  </thead>\n",
       "  <tbody>\n",
       "    <tr>\n",
       "      <th>0</th>\n",
       "      <td>Joe K 9.8 10 9.9 A+</td>\n",
       "    </tr>\n",
       "    <tr>\n",
       "      <th>1</th>\n",
       "      <td>Rajesh M 8.9 9.1 9.3 A</td>\n",
       "    </tr>\n",
       "    <tr>\n",
       "      <th>2</th>\n",
       "      <td>Kissan V 9.9 9.3 9.2 A</td>\n",
       "    </tr>\n",
       "    <tr>\n",
       "      <th>3</th>\n",
       "      <td>Mary N 7.7 8 7.1 B</td>\n",
       "    </tr>\n",
       "    <tr>\n",
       "      <th>4</th>\n",
       "      <td>Jeen K 9.8 9.1 9.9 A+</td>\n",
       "    </tr>\n",
       "  </tbody>\n",
       "</table>\n",
       "</div>"
      ],
      "text/plain": [
       "  Names Initials SEM1 SEM2 SEM3 Grade\n",
       "0                 Joe K 9.8 10 9.9 A+\n",
       "1              Rajesh M 8.9 9.1 9.3 A\n",
       "2              Kissan V 9.9 9.3 9.2 A\n",
       "3                  Mary N 7.7 8 7.1 B\n",
       "4               Jeen K 9.8 9.1 9.9 A+"
      ]
     },
     "execution_count": 57,
     "metadata": {},
     "output_type": "execute_result"
    }
   ],
   "source": [
    "df_txt.head()"
   ]
  },
  {
   "cell_type": "code",
   "execution_count": 58,
   "id": "1844ce0d-935a-4197-a2fc-bf3fea96b6f1",
   "metadata": {},
   "outputs": [
    {
     "data": {
      "text/html": [
       "<div>\n",
       "<style scoped>\n",
       "    .dataframe tbody tr th:only-of-type {\n",
       "        vertical-align: middle;\n",
       "    }\n",
       "\n",
       "    .dataframe tbody tr th {\n",
       "        vertical-align: top;\n",
       "    }\n",
       "\n",
       "    .dataframe thead th {\n",
       "        text-align: right;\n",
       "    }\n",
       "</style>\n",
       "<table border=\"1\" class=\"dataframe\">\n",
       "  <thead>\n",
       "    <tr style=\"text-align: right;\">\n",
       "      <th></th>\n",
       "      <th>Names</th>\n",
       "      <th>Initials</th>\n",
       "      <th>SEM1</th>\n",
       "      <th>SEM2</th>\n",
       "      <th>SEM3</th>\n",
       "      <th>Grade</th>\n",
       "    </tr>\n",
       "  </thead>\n",
       "  <tbody>\n",
       "    <tr>\n",
       "      <th>0</th>\n",
       "      <td>Joe</td>\n",
       "      <td>K</td>\n",
       "      <td>9.8</td>\n",
       "      <td>10.0</td>\n",
       "      <td>9.9</td>\n",
       "      <td>A+</td>\n",
       "    </tr>\n",
       "    <tr>\n",
       "      <th>1</th>\n",
       "      <td>Rajesh</td>\n",
       "      <td>M</td>\n",
       "      <td>8.9</td>\n",
       "      <td>9.1</td>\n",
       "      <td>9.3</td>\n",
       "      <td>A</td>\n",
       "    </tr>\n",
       "    <tr>\n",
       "      <th>2</th>\n",
       "      <td>Kissan</td>\n",
       "      <td>V</td>\n",
       "      <td>9.9</td>\n",
       "      <td>9.3</td>\n",
       "      <td>9.2</td>\n",
       "      <td>A</td>\n",
       "    </tr>\n",
       "    <tr>\n",
       "      <th>3</th>\n",
       "      <td>Mary</td>\n",
       "      <td>N</td>\n",
       "      <td>7.7</td>\n",
       "      <td>8.0</td>\n",
       "      <td>7.1</td>\n",
       "      <td>B</td>\n",
       "    </tr>\n",
       "    <tr>\n",
       "      <th>4</th>\n",
       "      <td>Jeen</td>\n",
       "      <td>K</td>\n",
       "      <td>9.8</td>\n",
       "      <td>9.1</td>\n",
       "      <td>9.9</td>\n",
       "      <td>A+</td>\n",
       "    </tr>\n",
       "  </tbody>\n",
       "</table>\n",
       "</div>"
      ],
      "text/plain": [
       "    Names Initials  SEM1  SEM2  SEM3 Grade\n",
       "0     Joe        K   9.8  10.0   9.9    A+\n",
       "1  Rajesh        M   8.9   9.1   9.3     A\n",
       "2  Kissan        V   9.9   9.3   9.2     A\n",
       "3    Mary        N   7.7   8.0   7.1     B\n",
       "4    Jeen        K   9.8   9.1   9.9    A+"
      ]
     },
     "execution_count": 58,
     "metadata": {},
     "output_type": "execute_result"
    }
   ],
   "source": [
    "df_txt=pd.read_csv(r\"C:\\Mypythonfiles\\grades.txt\",sep=\" \")\n",
    "df_txt.head()"
   ]
  },
  {
   "cell_type": "markdown",
   "id": "97346e06-317a-4d08-abb0-4352a3e4fc89",
   "metadata": {},
   "source": [
    "# Modifying data types"
   ]
  },
  {
   "cell_type": "code",
   "execution_count": 59,
   "id": "2742848a-44be-4e12-8c62-3bdadba8f58b",
   "metadata": {},
   "outputs": [],
   "source": [
    "df_txt[\"SEM1_int\"]=df_txt[\"SEM1\"].astype(int)"
   ]
  },
  {
   "cell_type": "code",
   "execution_count": 60,
   "id": "0b69ef62-b690-4ec0-a085-f2421fb18927",
   "metadata": {},
   "outputs": [
    {
     "data": {
      "text/html": [
       "<div>\n",
       "<style scoped>\n",
       "    .dataframe tbody tr th:only-of-type {\n",
       "        vertical-align: middle;\n",
       "    }\n",
       "\n",
       "    .dataframe tbody tr th {\n",
       "        vertical-align: top;\n",
       "    }\n",
       "\n",
       "    .dataframe thead th {\n",
       "        text-align: right;\n",
       "    }\n",
       "</style>\n",
       "<table border=\"1\" class=\"dataframe\">\n",
       "  <thead>\n",
       "    <tr style=\"text-align: right;\">\n",
       "      <th></th>\n",
       "      <th>Names</th>\n",
       "      <th>Initials</th>\n",
       "      <th>SEM1</th>\n",
       "      <th>SEM2</th>\n",
       "      <th>SEM3</th>\n",
       "      <th>Grade</th>\n",
       "      <th>SEM1_int</th>\n",
       "    </tr>\n",
       "  </thead>\n",
       "  <tbody>\n",
       "    <tr>\n",
       "      <th>0</th>\n",
       "      <td>Joe</td>\n",
       "      <td>K</td>\n",
       "      <td>9.8</td>\n",
       "      <td>10.0</td>\n",
       "      <td>9.9</td>\n",
       "      <td>A+</td>\n",
       "      <td>9</td>\n",
       "    </tr>\n",
       "    <tr>\n",
       "      <th>1</th>\n",
       "      <td>Rajesh</td>\n",
       "      <td>M</td>\n",
       "      <td>8.9</td>\n",
       "      <td>9.1</td>\n",
       "      <td>9.3</td>\n",
       "      <td>A</td>\n",
       "      <td>8</td>\n",
       "    </tr>\n",
       "    <tr>\n",
       "      <th>2</th>\n",
       "      <td>Kissan</td>\n",
       "      <td>V</td>\n",
       "      <td>9.9</td>\n",
       "      <td>9.3</td>\n",
       "      <td>9.2</td>\n",
       "      <td>A</td>\n",
       "      <td>9</td>\n",
       "    </tr>\n",
       "    <tr>\n",
       "      <th>3</th>\n",
       "      <td>Mary</td>\n",
       "      <td>N</td>\n",
       "      <td>7.7</td>\n",
       "      <td>8.0</td>\n",
       "      <td>7.1</td>\n",
       "      <td>B</td>\n",
       "      <td>7</td>\n",
       "    </tr>\n",
       "    <tr>\n",
       "      <th>4</th>\n",
       "      <td>Jeen</td>\n",
       "      <td>K</td>\n",
       "      <td>9.8</td>\n",
       "      <td>9.1</td>\n",
       "      <td>9.9</td>\n",
       "      <td>A+</td>\n",
       "      <td>9</td>\n",
       "    </tr>\n",
       "  </tbody>\n",
       "</table>\n",
       "</div>"
      ],
      "text/plain": [
       "    Names Initials  SEM1  SEM2  SEM3 Grade  SEM1_int\n",
       "0     Joe        K   9.8  10.0   9.9    A+         9\n",
       "1  Rajesh        M   8.9   9.1   9.3     A         8\n",
       "2  Kissan        V   9.9   9.3   9.2     A         9\n",
       "3    Mary        N   7.7   8.0   7.1     B         7\n",
       "4    Jeen        K   9.8   9.1   9.9    A+         9"
      ]
     },
     "execution_count": 60,
     "metadata": {},
     "output_type": "execute_result"
    }
   ],
   "source": [
    "df_txt.head()"
   ]
  },
  {
   "cell_type": "markdown",
   "id": "d7f97b3e-960a-4ffb-abe1-c18c1c6472c7",
   "metadata": {},
   "source": [
    "# MatplotLib"
   ]
  },
  {
   "cell_type": "code",
   "execution_count": 37,
   "id": "50667205-74cc-4ecc-9c41-cb75a92b5b93",
   "metadata": {},
   "outputs": [
    {
     "data": {
      "image/png": "[encoded data removed]",
      "text/plain": [
       "<Figure size 640x480 with 1 Axes>"
      ]
     },
     "metadata": {},
     "output_type": "display_data"
    }
   ],
   "source": [
    "import matplotlib.pyplot as plt\n",
    "x=[2,4,1,5,6]\n",
    "y=[8,6,3,1,5]\n",
    "plt.plot(x,y)\n",
    "plt.xlabel(\"X\")\n",
    "plt.ylabel(\"Y\")\n",
    "plt.grid()\n"
   ]
  },
  {
   "cell_type": "code",
   "execution_count": 12,
   "id": "3e832d01-389f-429e-af57-89a813c563cc",
   "metadata": {},
   "outputs": [
    {
     "data": {
      "text/plain": [
       "<matplotlib.legend.Legend at 0x1faf7c991f0>"
      ]
     },
     "execution_count": 12,
     "metadata": {},
     "output_type": "execute_result"
    },
    {
     "data": {
      "image/png": "[encoded data removed]",
      "text/plain": [
       "<Figure size 640x480 with 1 Axes>"
      ]
     },
     "metadata": {},
     "output_type": "display_data"
    }
   ],
   "source": [
    "sub=[\"ADA\",\"GT\",\"DBMS\",\"BIO\",\"AJ\"]\n",
    "x=[99,98,89,90,88]\n",
    "y=[98,89,94,92,80]\n",
    "plt.scatter(sub,x,y,color='k',label=\"X score\",marker=\"*\")\n",
    "plt.scatter(sub,x,y,color='k',label=\"Y score\",marker=\"D\")\n",
    "plt.xlabel(\"Subject\")\n",
    "plt.ylabel(\"Marks\")\n",
    "plt.legend()"
   ]
  },
  {
   "cell_type": "code",
   "execution_count": 21,
   "id": "5604f99c-7700-481f-9d96-9b40bfddb0d5",
   "metadata": {},
   "outputs": [
    {
     "data": {
      "image/png": "[encoded data removed]",
      "text/plain": [
       "<Figure size 640x480 with 1 Axes>"
      ]
     },
     "metadata": {},
     "output_type": "display_data"
    }
   ],
   "source": [
    "sub=[\"ADA\",\"GT\",\"DBMS\",\"BIO\",\"AJ\"]\n",
    "x=[99,98,89,90,88]\n",
    "plt.bar(sub,x)\n",
    "plt.xlabel(\"Subject\")\n",
    "plt.ylabel(\"Marks\")\n",
    "plt.show()"
   ]
  },
  {
   "cell_type": "code",
   "execution_count": 22,
   "id": "1e27321d-07ca-4a8c-ab32-2a738d6ae98b",
   "metadata": {},
   "outputs": [
    {
     "data": {
      "image/png": "[encoded data removed]",
      "text/plain": [
       "<Figure size 640x480 with 1 Axes>"
      ]
     },
     "metadata": {},
     "output_type": "display_data"
    }
   ],
   "source": [
    "sub=[\"ADA\",\"GT\",\"DBMS\",\"BIO\",\"AJ\"]\n",
    "y=[70,98,69,90,82]\n",
    "plt.bar(sub,y)\n",
    "plt.xlabel(\"Subject\")\n",
    "plt.ylabel(\"Marks\")\n",
    "plt.show()"
   ]
  },
  {
   "cell_type": "code",
   "execution_count": 36,
   "id": "a4e2bc29-f1c3-46c1-a1b6-a35bc8473506",
   "metadata": {},
   "outputs": [
    {
     "data": {
      "text/plain": [
       "Text(0, 0.5, 'Marks')"
      ]
     },
     "execution_count": 36,
     "metadata": {},
     "output_type": "execute_result"
    },
    {
     "data": {
      "image/png": "[encoded data removed]",
      "text/plain": [
       "<Figure size 640x480 with 2 Axes>"
      ]
     },
     "metadata": {},
     "output_type": "display_data"
    }
   ],
   "source": [
    "sub=[\"ADA\",\"GT\",\"DBMS\",\"BIO\",\"AJ\"]\n",
    "x=[99,98,89,90,88]\n",
    "y=[98,89,94,92,80]\n",
    "plt.subplot(1,2,1)\n",
    "plt.bar(sub,x,color='k',label=\"X Score\",width=0.5,align=\"center\")\n",
    "plt.xlabel(\"Subject\")\n",
    "plt.ylabel(\"Marks\")\n",
    "\n",
    "#second graph\n",
    "plt.subplot(1,2,2)\n",
    "plt.bar(sub,y,color='k',label=\"Y Score\",width=0.5,align=\"edge\")\n",
    "plt.xlabel(\"Subject\")\n",
    "plt.ylabel(\"Marks\")\n"
   ]
  },
  {
   "cell_type": "code",
   "execution_count": 40,
   "id": "69161b55-05b3-4870-be1a-b44215f1e065",
   "metadata": {},
   "outputs": [
    {
     "data": {
      "text/plain": [
       "<matplotlib.legend.Legend at 0x1fa8062aed0>"
      ]
     },
     "execution_count": 40,
     "metadata": {},
     "output_type": "execute_result"
    },
    {
     "data": {
      "image/png": "[encoded data removed]",
      "text/plain": [
       "<Figure size 640x480 with 1 Axes>"
      ]
     },
     "metadata": {},
     "output_type": "display_data"
    }
   ],
   "source": [
    "sub=[\"ADA\",\"GT\",\"DBMS\",\"BIO\",\"AJ\"]\n",
    "x=[99,98,89,90,88]\n",
    "y=[98,89,94,92,80]\n",
    "plt.bar(sub,x,color='k',label=\"X score\",width=0.5,align=\"center\")\n",
    "plt.bar(sub,y,color='b',label=\"Y score\",width=0.5,align=\"edge\")\n",
    "plt.xlabel(\"Subject\")\n",
    "plt.ylabel(\"Marks\")\n",
    "plt.legend()"
   ]
  },
  {
   "cell_type": "code",
   "execution_count": 42,
   "id": "3399e3f3-a623-4e03-bae4-18993dd9ab22",
   "metadata": {},
   "outputs": [
    {
     "data": {
      "image/png": "[encoded data removed]",
      "text/plain": [
       "<Figure size 640x480 with 1 Axes>"
      ]
     },
     "metadata": {},
     "output_type": "display_data"
    }
   ],
   "source": [
    "import numpy as np\n",
    "a=np.array([25,45,20,10])\n",
    "label=[\"AIML\",\"Pyuthon\",\"Pandas\",\"Numpy\"]\n",
    "color=[\"pink\",\"black\",\"blue\",\"orange\"]\n",
    "plt.pie(a,labels=label,colors=color)\n",
    "plt.legend()\n",
    "plt.show()"
   ]
  },
  {
   "cell_type": "code",
   "execution_count": null,
   "id": "d4455443-00f3-45be-ad25-ea18641ccdc2",
   "metadata": {},
   "outputs": [],
   "source": []
  }
 ],
 "metadata": {
  "kernelspec": {
   "display_name": "Python 3 (ipykernel)",
   "language": "python",
   "name": "python3"
  },
  "language_info": {
   "codemirror_mode": {
    "name": "ipython",
    "version": 3
   },
   "file_extension": ".py",
   "mimetype": "text/x-python",
   "name": "python",
   "nbconvert_exporter": "python",
   "pygments_lexer": "ipython3",
   "version": "3.12.7"
  }
 },
 "nbformat": 4,
 "nbformat_minor": 5
}
